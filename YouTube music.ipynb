{
 "cells": [
  {
   "cell_type": "code",
   "execution_count": 1,
   "id": "b89a5bca",
   "metadata": {},
   "outputs": [],
   "source": [
    "import requests\n",
    "import html\n",
    "import string\n",
    "import re\n",
    "import nltk\n",
    "from nltk import word_tokenize\n",
    "from nltk.corpus import stopwords\n",
    "from nltk.collocations import *\n",
    "import pandas as pd\n",
    "import matplotlib.pyplot as plt"
   ]
  },
  {
   "cell_type": "code",
   "execution_count": 2,
   "id": "f41984c9",
   "metadata": {},
   "outputs": [],
   "source": [
    "github_url = 'https://api.github.com/search/repositories'"
   ]
  },
  {
   "cell_type": "code",
   "execution_count": 3,
   "id": "0c941109",
   "metadata": {},
   "outputs": [],
   "source": [
    "q = '\"Youtube music\"'"
   ]
  },
  {
   "cell_type": "code",
   "execution_count": 4,
   "id": "a6040c85",
   "metadata": {},
   "outputs": [],
   "source": [
    "qparams = {'q' : q, 'sort' : 'stars', 'order': 'desc', 'per_page' : 100}"
   ]
  },
  {
   "cell_type": "code",
   "execution_count": 5,
   "id": "f7260067",
   "metadata": {},
   "outputs": [
    {
     "data": {
      "text/plain": [
       "<Response [200]>"
      ]
     },
     "execution_count": 5,
     "metadata": {},
     "output_type": "execute_result"
    }
   ],
   "source": [
    "r = requests.get(url=github_url, params=qparams)\n",
    "r"
   ]
  },
  {
   "cell_type": "code",
   "execution_count": 6,
   "id": "b69c985c",
   "metadata": {},
   "outputs": [
    {
     "data": {
      "text/plain": [
       "dict_keys(['total_count', 'incomplete_results', 'items'])"
      ]
     },
     "execution_count": 6,
     "metadata": {},
     "output_type": "execute_result"
    }
   ],
   "source": [
    "res = r.json()\n",
    "res.keys()"
   ]
  },
  {
   "cell_type": "code",
   "execution_count": 7,
   "id": "ed067609",
   "metadata": {},
   "outputs": [
    {
     "data": {
      "text/plain": [
       "100"
      ]
     },
     "execution_count": 7,
     "metadata": {},
     "output_type": "execute_result"
    }
   ],
   "source": [
    "len(res['items'])"
   ]
  },
  {
   "cell_type": "code",
   "execution_count": 8,
   "id": "cfaa6699",
   "metadata": {},
   "outputs": [
    {
     "data": {
      "text/plain": [
       "{'id': 279966127,\n",
       " 'node_id': 'MDEwOlJlcG9zaXRvcnkyNzk5NjYxMjc=',\n",
       " 'name': 'SpotiFlyer',\n",
       " 'full_name': 'Shabinder/SpotiFlyer',\n",
       " 'private': False,\n",
       " 'owner': {'login': 'Shabinder',\n",
       "  'id': 44765050,\n",
       "  'node_id': 'MDQ6VXNlcjQ0NzY1MDUw',\n",
       "  'avatar_url': 'https://avatars.githubusercontent.com/u/44765050?v=4',\n",
       "  'gravatar_id': '',\n",
       "  'url': 'https://api.github.com/users/Shabinder',\n",
       "  'html_url': 'https://github.com/Shabinder',\n",
       "  'followers_url': 'https://api.github.com/users/Shabinder/followers',\n",
       "  'following_url': 'https://api.github.com/users/Shabinder/following{/other_user}',\n",
       "  'gists_url': 'https://api.github.com/users/Shabinder/gists{/gist_id}',\n",
       "  'starred_url': 'https://api.github.com/users/Shabinder/starred{/owner}{/repo}',\n",
       "  'subscriptions_url': 'https://api.github.com/users/Shabinder/subscriptions',\n",
       "  'organizations_url': 'https://api.github.com/users/Shabinder/orgs',\n",
       "  'repos_url': 'https://api.github.com/users/Shabinder/repos',\n",
       "  'events_url': 'https://api.github.com/users/Shabinder/events{/privacy}',\n",
       "  'received_events_url': 'https://api.github.com/users/Shabinder/received_events',\n",
       "  'type': 'User',\n",
       "  'site_admin': False},\n",
       " 'html_url': 'https://github.com/Shabinder/SpotiFlyer',\n",
       " 'description': 'Kotlin Multiplatform Music Downloader, Supports Spotify / Gaana / Youtube Music / Jio Saavn .',\n",
       " 'fork': False,\n",
       " 'url': 'https://api.github.com/repos/Shabinder/SpotiFlyer',\n",
       " 'forks_url': 'https://api.github.com/repos/Shabinder/SpotiFlyer/forks',\n",
       " 'keys_url': 'https://api.github.com/repos/Shabinder/SpotiFlyer/keys{/key_id}',\n",
       " 'collaborators_url': 'https://api.github.com/repos/Shabinder/SpotiFlyer/collaborators{/collaborator}',\n",
       " 'teams_url': 'https://api.github.com/repos/Shabinder/SpotiFlyer/teams',\n",
       " 'hooks_url': 'https://api.github.com/repos/Shabinder/SpotiFlyer/hooks',\n",
       " 'issue_events_url': 'https://api.github.com/repos/Shabinder/SpotiFlyer/issues/events{/number}',\n",
       " 'events_url': 'https://api.github.com/repos/Shabinder/SpotiFlyer/events',\n",
       " 'assignees_url': 'https://api.github.com/repos/Shabinder/SpotiFlyer/assignees{/user}',\n",
       " 'branches_url': 'https://api.github.com/repos/Shabinder/SpotiFlyer/branches{/branch}',\n",
       " 'tags_url': 'https://api.github.com/repos/Shabinder/SpotiFlyer/tags',\n",
       " 'blobs_url': 'https://api.github.com/repos/Shabinder/SpotiFlyer/git/blobs{/sha}',\n",
       " 'git_tags_url': 'https://api.github.com/repos/Shabinder/SpotiFlyer/git/tags{/sha}',\n",
       " 'git_refs_url': 'https://api.github.com/repos/Shabinder/SpotiFlyer/git/refs{/sha}',\n",
       " 'trees_url': 'https://api.github.com/repos/Shabinder/SpotiFlyer/git/trees{/sha}',\n",
       " 'statuses_url': 'https://api.github.com/repos/Shabinder/SpotiFlyer/statuses/{sha}',\n",
       " 'languages_url': 'https://api.github.com/repos/Shabinder/SpotiFlyer/languages',\n",
       " 'stargazers_url': 'https://api.github.com/repos/Shabinder/SpotiFlyer/stargazers',\n",
       " 'contributors_url': 'https://api.github.com/repos/Shabinder/SpotiFlyer/contributors',\n",
       " 'subscribers_url': 'https://api.github.com/repos/Shabinder/SpotiFlyer/subscribers',\n",
       " 'subscription_url': 'https://api.github.com/repos/Shabinder/SpotiFlyer/subscription',\n",
       " 'commits_url': 'https://api.github.com/repos/Shabinder/SpotiFlyer/commits{/sha}',\n",
       " 'git_commits_url': 'https://api.github.com/repos/Shabinder/SpotiFlyer/git/commits{/sha}',\n",
       " 'comments_url': 'https://api.github.com/repos/Shabinder/SpotiFlyer/comments{/number}',\n",
       " 'issue_comment_url': 'https://api.github.com/repos/Shabinder/SpotiFlyer/issues/comments{/number}',\n",
       " 'contents_url': 'https://api.github.com/repos/Shabinder/SpotiFlyer/contents/{+path}',\n",
       " 'compare_url': 'https://api.github.com/repos/Shabinder/SpotiFlyer/compare/{base}...{head}',\n",
       " 'merges_url': 'https://api.github.com/repos/Shabinder/SpotiFlyer/merges',\n",
       " 'archive_url': 'https://api.github.com/repos/Shabinder/SpotiFlyer/{archive_format}{/ref}',\n",
       " 'downloads_url': 'https://api.github.com/repos/Shabinder/SpotiFlyer/downloads',\n",
       " 'issues_url': 'https://api.github.com/repos/Shabinder/SpotiFlyer/issues{/number}',\n",
       " 'pulls_url': 'https://api.github.com/repos/Shabinder/SpotiFlyer/pulls{/number}',\n",
       " 'milestones_url': 'https://api.github.com/repos/Shabinder/SpotiFlyer/milestones{/number}',\n",
       " 'notifications_url': 'https://api.github.com/repos/Shabinder/SpotiFlyer/notifications{?since,all,participating}',\n",
       " 'labels_url': 'https://api.github.com/repos/Shabinder/SpotiFlyer/labels{/name}',\n",
       " 'releases_url': 'https://api.github.com/repos/Shabinder/SpotiFlyer/releases{/id}',\n",
       " 'deployments_url': 'https://api.github.com/repos/Shabinder/SpotiFlyer/deployments',\n",
       " 'created_at': '2020-07-15T20:05:01Z',\n",
       " 'updated_at': '2021-07-26T01:05:26Z',\n",
       " 'pushed_at': '2021-07-26T00:06:14Z',\n",
       " 'git_url': 'git://github.com/Shabinder/SpotiFlyer.git',\n",
       " 'ssh_url': 'git@github.com:Shabinder/SpotiFlyer.git',\n",
       " 'clone_url': 'https://github.com/Shabinder/SpotiFlyer.git',\n",
       " 'svn_url': 'https://github.com/Shabinder/SpotiFlyer',\n",
       " 'homepage': '',\n",
       " 'size': 41145,\n",
       " 'stargazers_count': 1141,\n",
       " 'watchers_count': 1141,\n",
       " 'language': 'Kotlin',\n",
       " 'has_issues': True,\n",
       " 'has_projects': True,\n",
       " 'has_downloads': True,\n",
       " 'has_wiki': True,\n",
       " 'has_pages': True,\n",
       " 'forks_count': 108,\n",
       " 'mirror_url': None,\n",
       " 'archived': False,\n",
       " 'disabled': False,\n",
       " 'open_issues_count': 49,\n",
       " 'license': {'key': 'gpl-3.0',\n",
       "  'name': 'GNU General Public License v3.0',\n",
       "  'spdx_id': 'GPL-3.0',\n",
       "  'url': 'https://api.github.com/licenses/gpl-3.0',\n",
       "  'node_id': 'MDc6TGljZW5zZTk='},\n",
       " 'forks': 108,\n",
       " 'open_issues': 49,\n",
       " 'watchers': 1141,\n",
       " 'default_branch': 'main',\n",
       " 'score': 1.0}"
      ]
     },
     "execution_count": 8,
     "metadata": {},
     "output_type": "execute_result"
    }
   ],
   "source": [
    "res['items'][2]"
   ]
  },
  {
   "cell_type": "code",
   "execution_count": 9,
   "id": "8861e90e",
   "metadata": {},
   "outputs": [
    {
     "data": {
      "text/plain": [
       "'Kotlin Multiplatform Music Downloader, Supports Spotify / Gaana / Youtube Music / Jio Saavn .'"
      ]
     },
     "execution_count": 9,
     "metadata": {},
     "output_type": "execute_result"
    }
   ],
   "source": [
    "res['items'][2]['description']"
   ]
  },
  {
   "cell_type": "code",
   "execution_count": 10,
   "id": "64d2985e",
   "metadata": {},
   "outputs": [
    {
     "data": {
      "text/plain": [
       "100"
      ]
     },
     "execution_count": 10,
     "metadata": {},
     "output_type": "execute_result"
    }
   ],
   "source": [
    "len(res['items'])"
   ]
  },
  {
   "cell_type": "code",
   "execution_count": 11,
   "id": "4f8a42be",
   "metadata": {},
   "outputs": [],
   "source": [
    "stop_words = set(stopwords.words('english'))\n",
    "def text_cleanup(s):\n",
    "    # if not a string object, disregard\n",
    "    if not isinstance(s, str):\n",
    "        return ''\n",
    "    \n",
    "    s_unesc = html.unescape(re.sub(r\"http\\S+\", \"\", re.sub('\\n+', ' ', s)))\n",
    "    s_noemoji = s_unesc.encode('ascii', 'ignore').decode('ascii')\n",
    "    # normalize to lowercase and tokenize\n",
    "    wt = word_tokenize(s_noemoji.lower())\n",
    "    \n",
    "    # filter word-tokens\n",
    "    wt_filt = [w for w in wt if (w not in stop_words) and (w not in string.punctuation) and w.isalnum()]\n",
    "    \n",
    "    # return clean string\n",
    "    return ' '.join(wt_filt)"
   ]
  },
  {
   "cell_type": "code",
   "execution_count": 12,
   "id": "20b7aed3",
   "metadata": {},
   "outputs": [
    {
     "data": {
      "text/plain": [
       "'kotlin multiplatform music downloader supports spotify gaana youtube music jio saavn'"
      ]
     },
     "execution_count": 12,
     "metadata": {},
     "output_type": "execute_result"
    }
   ],
   "source": [
    "text_cleanup(res['items'][2]['description'])"
   ]
  },
  {
   "cell_type": "code",
   "execution_count": 13,
   "id": "fd914b86",
   "metadata": {},
   "outputs": [],
   "source": [
    "descr = [text_cleanup(r['description']) for r in res['items']]"
   ]
  },
  {
   "cell_type": "code",
   "execution_count": 14,
   "id": "c4081244",
   "metadata": {},
   "outputs": [],
   "source": [
    "bigram_measures = nltk.collocations.BigramAssocMeasures()\n",
    "bigram_finder = BigramCollocationFinder.from_documents([d.split() for d in descr])"
   ]
  },
  {
   "cell_type": "code",
   "execution_count": 15,
   "id": "c63d8cc3",
   "metadata": {},
   "outputs": [],
   "source": [
    "bigram_finder.apply_freq_filter(3)"
   ]
  },
  {
   "cell_type": "code",
   "execution_count": 16,
   "id": "ef3a24af",
   "metadata": {},
   "outputs": [
    {
     "data": {
      "text/plain": [
       "[(('desktop', 'app'), 7),\n",
       " (('app', 'youtube'), 3),\n",
       " (('youtube', 'music'), 86),\n",
       " (('youtube', 'youtube'), 145),\n",
       " (('youtube', 'video'), 3),\n",
       " (('music', 'youtube'), 3),\n",
       " (('music', 'downloader'), 3),\n",
       " (('music', 'desktop'), 5),\n",
       " (('playlists', 'youtube'), 4),\n",
       " (('desktop', 'client'), 3),\n",
       " (('music', 'player'), 11),\n",
       " (('based', 'youtube'), 3),\n",
       " (('download', 'youtube'), 3),\n",
       " (('command', 'line'), 3),\n",
       " (('music', 'api'), 4),\n",
       " (('playing', 'youtube'), 4),\n",
       " (('unofficial', 'youtube'), 5),\n",
       " (('chrome', 'extension'), 4),\n",
       " (('music', 'videos'), 3),\n",
       " (('download', 'music'), 3)]"
      ]
     },
     "execution_count": 16,
     "metadata": {},
     "output_type": "execute_result"
    }
   ],
   "source": [
    "bigram_freq = list(bigram_finder.ngram_fd.items())\n",
    "bigram_freq"
   ]
  },
  {
   "cell_type": "code",
   "execution_count": 17,
   "id": "d0d5ea59",
   "metadata": {},
   "outputs": [
    {
     "data": {
      "text/html": [
       "<div>\n",
       "<style scoped>\n",
       "    .dataframe tbody tr th:only-of-type {\n",
       "        vertical-align: middle;\n",
       "    }\n",
       "\n",
       "    .dataframe tbody tr th {\n",
       "        vertical-align: top;\n",
       "    }\n",
       "\n",
       "    .dataframe thead th {\n",
       "        text-align: right;\n",
       "    }\n",
       "</style>\n",
       "<table border=\"1\" class=\"dataframe\">\n",
       "  <thead>\n",
       "    <tr style=\"text-align: right;\">\n",
       "      <th></th>\n",
       "      <th>count</th>\n",
       "    </tr>\n",
       "    <tr>\n",
       "      <th>keyphrase</th>\n",
       "      <th></th>\n",
       "    </tr>\n",
       "  </thead>\n",
       "  <tbody>\n",
       "    <tr>\n",
       "      <th>youtube youtube</th>\n",
       "      <td>145</td>\n",
       "    </tr>\n",
       "    <tr>\n",
       "      <th>youtube music</th>\n",
       "      <td>86</td>\n",
       "    </tr>\n",
       "    <tr>\n",
       "      <th>music player</th>\n",
       "      <td>11</td>\n",
       "    </tr>\n",
       "    <tr>\n",
       "      <th>desktop app</th>\n",
       "      <td>7</td>\n",
       "    </tr>\n",
       "    <tr>\n",
       "      <th>music desktop</th>\n",
       "      <td>5</td>\n",
       "    </tr>\n",
       "    <tr>\n",
       "      <th>unofficial youtube</th>\n",
       "      <td>5</td>\n",
       "    </tr>\n",
       "    <tr>\n",
       "      <th>playlists youtube</th>\n",
       "      <td>4</td>\n",
       "    </tr>\n",
       "    <tr>\n",
       "      <th>music api</th>\n",
       "      <td>4</td>\n",
       "    </tr>\n",
       "    <tr>\n",
       "      <th>playing youtube</th>\n",
       "      <td>4</td>\n",
       "    </tr>\n",
       "    <tr>\n",
       "      <th>chrome extension</th>\n",
       "      <td>4</td>\n",
       "    </tr>\n",
       "    <tr>\n",
       "      <th>youtube video</th>\n",
       "      <td>3</td>\n",
       "    </tr>\n",
       "    <tr>\n",
       "      <th>music youtube</th>\n",
       "      <td>3</td>\n",
       "    </tr>\n",
       "    <tr>\n",
       "      <th>music downloader</th>\n",
       "      <td>3</td>\n",
       "    </tr>\n",
       "    <tr>\n",
       "      <th>desktop client</th>\n",
       "      <td>3</td>\n",
       "    </tr>\n",
       "    <tr>\n",
       "      <th>app youtube</th>\n",
       "      <td>3</td>\n",
       "    </tr>\n",
       "    <tr>\n",
       "      <th>based youtube</th>\n",
       "      <td>3</td>\n",
       "    </tr>\n",
       "    <tr>\n",
       "      <th>download youtube</th>\n",
       "      <td>3</td>\n",
       "    </tr>\n",
       "    <tr>\n",
       "      <th>command line</th>\n",
       "      <td>3</td>\n",
       "    </tr>\n",
       "    <tr>\n",
       "      <th>music videos</th>\n",
       "      <td>3</td>\n",
       "    </tr>\n",
       "    <tr>\n",
       "      <th>download music</th>\n",
       "      <td>3</td>\n",
       "    </tr>\n",
       "  </tbody>\n",
       "</table>\n",
       "</div>"
      ],
      "text/plain": [
       "                    count\n",
       "keyphrase                \n",
       "youtube youtube       145\n",
       "youtube music          86\n",
       "music player           11\n",
       "desktop app             7\n",
       "music desktop           5\n",
       "unofficial youtube      5\n",
       "playlists youtube       4\n",
       "music api               4\n",
       "playing youtube         4\n",
       "chrome extension        4\n",
       "youtube video           3\n",
       "music youtube           3\n",
       "music downloader        3\n",
       "desktop client          3\n",
       "app youtube             3\n",
       "based youtube           3\n",
       "download youtube        3\n",
       "command line            3\n",
       "music videos            3\n",
       "download music          3"
      ]
     },
     "execution_count": 17,
     "metadata": {},
     "output_type": "execute_result"
    }
   ],
   "source": [
    "df_freq = pd.DataFrame([(' '.join(k), v) for k,v in bigram_freq], columns=['keyphrase', 'count'])\n",
    "df_freq.sort_values(by='count', ascending=False, inplace=True)\n",
    "df_freq.set_index('keyphrase', inplace = True)\n",
    "df_freq"
   ]
  },
  {
   "cell_type": "code",
   "execution_count": 18,
   "id": "1e86a664",
   "metadata": {},
   "outputs": [
    {
     "data": {
      "image/png": "[encoded data removed]",
      "text/plain": [
       "<Figure size 432x288 with 1 Axes>"
      ]
     },
     "metadata": {},
     "output_type": "display_data"
    }
   ],
   "source": [
    "plt.style.use('ggplot')\n",
    "\n",
    "# render a horizontal bar graph\n",
    "df_freq.head(20).sort_values(by='count').plot(kind = 'barh')\n",
    "plt.title('Trending keyphrases')\n",
    "plt.ylabel('phrase')\n",
    "plt.xlabel('count')\n",
    "plt.legend().set_visible(False)\n",
    "plt.show()"
   ]
  },
  {
   "cell_type": "code",
   "execution_count": null,
   "id": "0cf3d5a9",
   "metadata": {},
   "outputs": [],
   "source": []
  }
 ],
 "metadata": {
  "kernelspec": {
   "display_name": "Python 3",
   "language": "python",
   "name": "python3"
  },
  "language_info": {
   "codemirror_mode": {
    "name": "ipython",
    "version": 3
   },
   "file_extension": ".py",
   "mimetype": "text/x-python",
   "name": "python",
   "nbconvert_exporter": "python",
   "pygments_lexer": "ipython3",
   "version": "3.7.10"
  }
 },
 "nbformat": 4,
 "nbformat_minor": 5
}
