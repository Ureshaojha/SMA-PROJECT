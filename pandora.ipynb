{
 "cells": [
  {
   "cell_type": "code",
   "execution_count": 1,
   "id": "01742c90",
   "metadata": {},
   "outputs": [],
   "source": [
    "import requests\n",
    "import html\n",
    "import string\n",
    "import re\n",
    "import nltk\n",
    "from nltk import word_tokenize\n",
    "from nltk.corpus import stopwords\n",
    "from nltk.collocations import *\n",
    "import pandas as pd\n",
    "import matplotlib.pyplot as plt"
   ]
  },
  {
   "cell_type": "code",
   "execution_count": 2,
   "id": "d0500c26",
   "metadata": {},
   "outputs": [],
   "source": [
    "github_url = 'https://api.github.com/search/repositories'"
   ]
  },
  {
   "cell_type": "code",
   "execution_count": 3,
   "id": "493d5175",
   "metadata": {},
   "outputs": [],
   "source": [
    "q = '\"TIDAL\"'"
   ]
  },
  {
   "cell_type": "code",
   "execution_count": 4,
   "id": "26c8a6fe",
   "metadata": {},
   "outputs": [],
   "source": [
    "qparams = {'q' : q, 'sort' : 'forks', 'order': 'desc', 'per_page' : 100}"
   ]
  },
  {
   "cell_type": "code",
   "execution_count": 5,
   "id": "287bcc19",
   "metadata": {},
   "outputs": [
    {
     "data": {
      "text/plain": [
       "<Response [200]>"
      ]
     },
     "execution_count": 5,
     "metadata": {},
     "output_type": "execute_result"
    }
   ],
   "source": [
    "r = requests.get(url=github_url, params=qparams)\n",
    "r"
   ]
  },
  {
   "cell_type": "code",
   "execution_count": 6,
   "id": "8daf97d0",
   "metadata": {},
   "outputs": [
    {
     "data": {
      "text/plain": [
       "dict_keys(['total_count', 'incomplete_results', 'items'])"
      ]
     },
     "execution_count": 6,
     "metadata": {},
     "output_type": "execute_result"
    }
   ],
   "source": [
    "res = r.json()\n",
    "res.keys()"
   ]
  },
  {
   "cell_type": "code",
   "execution_count": 7,
   "id": "576ed34f",
   "metadata": {},
   "outputs": [
    {
     "data": {
      "text/plain": [
       "100"
      ]
     },
     "execution_count": 7,
     "metadata": {},
     "output_type": "execute_result"
    }
   ],
   "source": [
    "len(res['items'])"
   ]
  },
  {
   "cell_type": "code",
   "execution_count": 8,
   "id": "3927b68b",
   "metadata": {},
   "outputs": [
    {
     "data": {
      "text/plain": [
       "{'id': 28609243,\n",
       " 'node_id': 'MDEwOlJlcG9zaXRvcnkyODYwOTI0Mw==',\n",
       " 'name': 'strawberry',\n",
       " 'full_name': 'strawberrymusicplayer/strawberry',\n",
       " 'private': False,\n",
       " 'owner': {'login': 'strawberrymusicplayer',\n",
       "  'id': 60241412,\n",
       "  'node_id': 'MDEyOk9yZ2FuaXphdGlvbjYwMjQxNDEy',\n",
       "  'avatar_url': 'https://avatars.githubusercontent.com/u/60241412?v=4',\n",
       "  'gravatar_id': '',\n",
       "  'url': 'https://api.github.com/users/strawberrymusicplayer',\n",
       "  'html_url': 'https://github.com/strawberrymusicplayer',\n",
       "  'followers_url': 'https://api.github.com/users/strawberrymusicplayer/followers',\n",
       "  'following_url': 'https://api.github.com/users/strawberrymusicplayer/following{/other_user}',\n",
       "  'gists_url': 'https://api.github.com/users/strawberrymusicplayer/gists{/gist_id}',\n",
       "  'starred_url': 'https://api.github.com/users/strawberrymusicplayer/starred{/owner}{/repo}',\n",
       "  'subscriptions_url': 'https://api.github.com/users/strawberrymusicplayer/subscriptions',\n",
       "  'organizations_url': 'https://api.github.com/users/strawberrymusicplayer/orgs',\n",
       "  'repos_url': 'https://api.github.com/users/strawberrymusicplayer/repos',\n",
       "  'events_url': 'https://api.github.com/users/strawberrymusicplayer/events{/privacy}',\n",
       "  'received_events_url': 'https://api.github.com/users/strawberrymusicplayer/received_events',\n",
       "  'type': 'Organization',\n",
       "  'site_admin': False},\n",
       " 'html_url': 'https://github.com/strawberrymusicplayer/strawberry',\n",
       " 'description': ':strawberry: Strawberry Music Player',\n",
       " 'fork': False,\n",
       " 'url': 'https://api.github.com/repos/strawberrymusicplayer/strawberry',\n",
       " 'forks_url': 'https://api.github.com/repos/strawberrymusicplayer/strawberry/forks',\n",
       " 'keys_url': 'https://api.github.com/repos/strawberrymusicplayer/strawberry/keys{/key_id}',\n",
       " 'collaborators_url': 'https://api.github.com/repos/strawberrymusicplayer/strawberry/collaborators{/collaborator}',\n",
       " 'teams_url': 'https://api.github.com/repos/strawberrymusicplayer/strawberry/teams',\n",
       " 'hooks_url': 'https://api.github.com/repos/strawberrymusicplayer/strawberry/hooks',\n",
       " 'issue_events_url': 'https://api.github.com/repos/strawberrymusicplayer/strawberry/issues/events{/number}',\n",
       " 'events_url': 'https://api.github.com/repos/strawberrymusicplayer/strawberry/events',\n",
       " 'assignees_url': 'https://api.github.com/repos/strawberrymusicplayer/strawberry/assignees{/user}',\n",
       " 'branches_url': 'https://api.github.com/repos/strawberrymusicplayer/strawberry/branches{/branch}',\n",
       " 'tags_url': 'https://api.github.com/repos/strawberrymusicplayer/strawberry/tags',\n",
       " 'blobs_url': 'https://api.github.com/repos/strawberrymusicplayer/strawberry/git/blobs{/sha}',\n",
       " 'git_tags_url': 'https://api.github.com/repos/strawberrymusicplayer/strawberry/git/tags{/sha}',\n",
       " 'git_refs_url': 'https://api.github.com/repos/strawberrymusicplayer/strawberry/git/refs{/sha}',\n",
       " 'trees_url': 'https://api.github.com/repos/strawberrymusicplayer/strawberry/git/trees{/sha}',\n",
       " 'statuses_url': 'https://api.github.com/repos/strawberrymusicplayer/strawberry/statuses/{sha}',\n",
       " 'languages_url': 'https://api.github.com/repos/strawberrymusicplayer/strawberry/languages',\n",
       " 'stargazers_url': 'https://api.github.com/repos/strawberrymusicplayer/strawberry/stargazers',\n",
       " 'contributors_url': 'https://api.github.com/repos/strawberrymusicplayer/strawberry/contributors',\n",
       " 'subscribers_url': 'https://api.github.com/repos/strawberrymusicplayer/strawberry/subscribers',\n",
       " 'subscription_url': 'https://api.github.com/repos/strawberrymusicplayer/strawberry/subscription',\n",
       " 'commits_url': 'https://api.github.com/repos/strawberrymusicplayer/strawberry/commits{/sha}',\n",
       " 'git_commits_url': 'https://api.github.com/repos/strawberrymusicplayer/strawberry/git/commits{/sha}',\n",
       " 'comments_url': 'https://api.github.com/repos/strawberrymusicplayer/strawberry/comments{/number}',\n",
       " 'issue_comment_url': 'https://api.github.com/repos/strawberrymusicplayer/strawberry/issues/comments{/number}',\n",
       " 'contents_url': 'https://api.github.com/repos/strawberrymusicplayer/strawberry/contents/{+path}',\n",
       " 'compare_url': 'https://api.github.com/repos/strawberrymusicplayer/strawberry/compare/{base}...{head}',\n",
       " 'merges_url': 'https://api.github.com/repos/strawberrymusicplayer/strawberry/merges',\n",
       " 'archive_url': 'https://api.github.com/repos/strawberrymusicplayer/strawberry/{archive_format}{/ref}',\n",
       " 'downloads_url': 'https://api.github.com/repos/strawberrymusicplayer/strawberry/downloads',\n",
       " 'issues_url': 'https://api.github.com/repos/strawberrymusicplayer/strawberry/issues{/number}',\n",
       " 'pulls_url': 'https://api.github.com/repos/strawberrymusicplayer/strawberry/pulls{/number}',\n",
       " 'milestones_url': 'https://api.github.com/repos/strawberrymusicplayer/strawberry/milestones{/number}',\n",
       " 'notifications_url': 'https://api.github.com/repos/strawberrymusicplayer/strawberry/notifications{?since,all,participating}',\n",
       " 'labels_url': 'https://api.github.com/repos/strawberrymusicplayer/strawberry/labels{/name}',\n",
       " 'releases_url': 'https://api.github.com/repos/strawberrymusicplayer/strawberry/releases{/id}',\n",
       " 'deployments_url': 'https://api.github.com/repos/strawberrymusicplayer/strawberry/deployments',\n",
       " 'created_at': '2014-12-29T22:49:19Z',\n",
       " 'updated_at': '2021-07-27T20:50:14Z',\n",
       " 'pushed_at': '2021-07-23T21:58:51Z',\n",
       " 'git_url': 'git://github.com/strawberrymusicplayer/strawberry.git',\n",
       " 'ssh_url': 'git@github.com:strawberrymusicplayer/strawberry.git',\n",
       " 'clone_url': 'https://github.com/strawberrymusicplayer/strawberry.git',\n",
       " 'svn_url': 'https://github.com/strawberrymusicplayer/strawberry',\n",
       " 'homepage': 'https://www.strawberrymusicplayer.org/',\n",
       " 'size': 32316,\n",
       " 'stargazers_count': 1124,\n",
       " 'watchers_count': 1124,\n",
       " 'language': 'C++',\n",
       " 'has_issues': True,\n",
       " 'has_projects': True,\n",
       " 'has_downloads': True,\n",
       " 'has_wiki': True,\n",
       " 'has_pages': False,\n",
       " 'forks_count': 66,\n",
       " 'mirror_url': None,\n",
       " 'archived': False,\n",
       " 'disabled': False,\n",
       " 'open_issues_count': 6,\n",
       " 'license': {'key': 'gpl-3.0',\n",
       "  'name': 'GNU General Public License v3.0',\n",
       "  'spdx_id': 'GPL-3.0',\n",
       "  'url': 'https://api.github.com/licenses/gpl-3.0',\n",
       "  'node_id': 'MDc6TGljZW5zZTk='},\n",
       " 'forks': 66,\n",
       " 'open_issues': 6,\n",
       " 'watchers': 1124,\n",
       " 'default_branch': 'master',\n",
       " 'score': 1.0}"
      ]
     },
     "execution_count": 8,
     "metadata": {},
     "output_type": "execute_result"
    }
   ],
   "source": [
    "res['items'][2]"
   ]
  },
  {
   "cell_type": "code",
   "execution_count": 9,
   "id": "42089343",
   "metadata": {},
   "outputs": [
    {
     "data": {
      "text/plain": [
       "':strawberry: Strawberry Music Player'"
      ]
     },
     "execution_count": 9,
     "metadata": {},
     "output_type": "execute_result"
    }
   ],
   "source": [
    "res['items'][2]['description']"
   ]
  },
  {
   "cell_type": "code",
   "execution_count": 10,
   "id": "546bec42",
   "metadata": {},
   "outputs": [
    {
     "data": {
      "text/plain": [
       "100"
      ]
     },
     "execution_count": 10,
     "metadata": {},
     "output_type": "execute_result"
    }
   ],
   "source": [
    "len(res['items'])"
   ]
  },
  {
   "cell_type": "code",
   "execution_count": 11,
   "id": "cb81062e",
   "metadata": {},
   "outputs": [],
   "source": [
    "stop_words = set(stopwords.words('english'))\n",
    "def text_cleanup(s):\n",
    "    # if not a string object, disregard\n",
    "    if not isinstance(s, str):\n",
    "        return ''\n",
    "    \n",
    "    s_unesc = html.unescape(re.sub(r\"http\\S+\", \"\", re.sub('\\n+', ' ', s)))\n",
    "    s_noemoji = s_unesc.encode('ascii', 'ignore').decode('ascii')\n",
    "    # normalize to lowercase and tokenize\n",
    "    wt = word_tokenize(s_noemoji.lower())\n",
    "    \n",
    "    # filter word-tokens\n",
    "    wt_filt = [w for w in wt if (w not in stop_words) and (w not in string.punctuation) and w.isalnum()]\n",
    "    \n",
    "    # return clean string\n",
    "    return ' '.join(wt_filt)"
   ]
  },
  {
   "cell_type": "code",
   "execution_count": 12,
   "id": "f2af1651",
   "metadata": {},
   "outputs": [
    {
     "data": {
      "text/plain": [
       "'strawberry strawberry music player'"
      ]
     },
     "execution_count": 12,
     "metadata": {},
     "output_type": "execute_result"
    }
   ],
   "source": [
    "text_cleanup(res['items'][2]['description'])"
   ]
  },
  {
   "cell_type": "code",
   "execution_count": 13,
   "id": "70c18dba",
   "metadata": {},
   "outputs": [],
   "source": [
    "descr = [text_cleanup(r['description']) for r in res['items']]"
   ]
  },
  {
   "cell_type": "code",
   "execution_count": 14,
   "id": "61c25852",
   "metadata": {},
   "outputs": [],
   "source": [
    "bigram_measures = nltk.collocations.BigramAssocMeasures()\n",
    "bigram_finder = BigramCollocationFinder.from_documents([d.split() for d in descr])"
   ]
  },
  {
   "cell_type": "code",
   "execution_count": 15,
   "id": "92a4f789",
   "metadata": {},
   "outputs": [],
   "source": [
    "bigram_finder.apply_freq_filter(3)"
   ]
  },
  {
   "cell_type": "code",
   "execution_count": 16,
   "id": "0fb14219",
   "metadata": {},
   "outputs": [
    {
     "data": {
      "text/plain": [
       "[(('api', 'tidal'), 4),\n",
       " (('tidal', 'music'), 5),\n",
       " (('music', 'streaming'), 7),\n",
       " (('streaming', 'service'), 5),\n",
       " (('music', 'downloader'), 3),\n",
       " (('live', 'coding'), 3),\n",
       " (('leslie', 'property'), 3),\n",
       " (('sea', 'level'), 3),\n",
       " (('use', 'force'), 3),\n",
       " (('natural', 'resources'), 4)]"
      ]
     },
     "execution_count": 16,
     "metadata": {},
     "output_type": "execute_result"
    }
   ],
   "source": [
    "bigram_freq = list(bigram_finder.ngram_fd.items())\n",
    "bigram_freq"
   ]
  },
  {
   "cell_type": "code",
   "execution_count": 17,
   "id": "c1ddb42b",
   "metadata": {},
   "outputs": [
    {
     "data": {
      "text/html": [
       "<div>\n",
       "<style scoped>\n",
       "    .dataframe tbody tr th:only-of-type {\n",
       "        vertical-align: middle;\n",
       "    }\n",
       "\n",
       "    .dataframe tbody tr th {\n",
       "        vertical-align: top;\n",
       "    }\n",
       "\n",
       "    .dataframe thead th {\n",
       "        text-align: right;\n",
       "    }\n",
       "</style>\n",
       "<table border=\"1\" class=\"dataframe\">\n",
       "  <thead>\n",
       "    <tr style=\"text-align: right;\">\n",
       "      <th></th>\n",
       "      <th>count</th>\n",
       "    </tr>\n",
       "    <tr>\n",
       "      <th>keyphrase</th>\n",
       "      <th></th>\n",
       "    </tr>\n",
       "  </thead>\n",
       "  <tbody>\n",
       "    <tr>\n",
       "      <th>music streaming</th>\n",
       "      <td>7</td>\n",
       "    </tr>\n",
       "    <tr>\n",
       "      <th>tidal music</th>\n",
       "      <td>5</td>\n",
       "    </tr>\n",
       "    <tr>\n",
       "      <th>streaming service</th>\n",
       "      <td>5</td>\n",
       "    </tr>\n",
       "    <tr>\n",
       "      <th>api tidal</th>\n",
       "      <td>4</td>\n",
       "    </tr>\n",
       "    <tr>\n",
       "      <th>natural resources</th>\n",
       "      <td>4</td>\n",
       "    </tr>\n",
       "    <tr>\n",
       "      <th>music downloader</th>\n",
       "      <td>3</td>\n",
       "    </tr>\n",
       "    <tr>\n",
       "      <th>live coding</th>\n",
       "      <td>3</td>\n",
       "    </tr>\n",
       "    <tr>\n",
       "      <th>leslie property</th>\n",
       "      <td>3</td>\n",
       "    </tr>\n",
       "    <tr>\n",
       "      <th>sea level</th>\n",
       "      <td>3</td>\n",
       "    </tr>\n",
       "    <tr>\n",
       "      <th>use force</th>\n",
       "      <td>3</td>\n",
       "    </tr>\n",
       "  </tbody>\n",
       "</table>\n",
       "</div>"
      ],
      "text/plain": [
       "                   count\n",
       "keyphrase               \n",
       "music streaming        7\n",
       "tidal music            5\n",
       "streaming service      5\n",
       "api tidal              4\n",
       "natural resources      4\n",
       "music downloader       3\n",
       "live coding            3\n",
       "leslie property        3\n",
       "sea level              3\n",
       "use force              3"
      ]
     },
     "execution_count": 17,
     "metadata": {},
     "output_type": "execute_result"
    }
   ],
   "source": [
    "df_freq = pd.DataFrame([(' '.join(k), v) for k,v in bigram_freq], columns=['keyphrase', 'count'])\n",
    "df_freq.sort_values(by='count', ascending=False, inplace=True)\n",
    "df_freq.set_index('keyphrase', inplace = True)\n",
    "df_freq"
   ]
  },
  {
   "cell_type": "code",
   "execution_count": 18,
   "id": "381974d4",
   "metadata": {},
   "outputs": [
    {
     "data": {
      "image/png": "[encoded data removed]",
      "text/plain": [
       "<Figure size 432x288 with 1 Axes>"
      ]
     },
     "metadata": {},
     "output_type": "display_data"
    }
   ],
   "source": [
    "plt.style.use('ggplot')\n",
    "\n",
    "# render a horizontal bar graph\n",
    "df_freq.head(20).sort_values(by='count').plot(kind = 'barh')\n",
    "plt.title('Trending keyphrases')\n",
    "plt.ylabel('phrase')\n",
    "plt.xlabel('count')\n",
    "plt.legend().set_visible(False)\n",
    "plt.show()"
   ]
  },
  {
   "cell_type": "code",
   "execution_count": null,
   "id": "f7bbec42",
   "metadata": {},
   "outputs": [],
   "source": []
  }
 ],
 "metadata": {
  "kernelspec": {
   "display_name": "Python 3",
   "language": "python",
   "name": "python3"
  },
  "language_info": {
   "codemirror_mode": {
    "name": "ipython",
    "version": 3
   },
   "file_extension": ".py",
   "mimetype": "text/x-python",
   "name": "python",
   "nbconvert_exporter": "python",
   "pygments_lexer": "ipython3",
   "version": "3.7.10"
  }
 },
 "nbformat": 4,
 "nbformat_minor": 5
}
