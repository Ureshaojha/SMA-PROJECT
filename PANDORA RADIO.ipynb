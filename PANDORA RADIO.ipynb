{
 "cells": [
  {
   "cell_type": "code",
   "execution_count": 1,
   "id": "d464f5e5",
   "metadata": {},
   "outputs": [],
   "source": [
    "import requests\n",
    "import html\n",
    "import string\n",
    "import re\n",
    "import nltk\n",
    "from nltk import word_tokenize\n",
    "from nltk.corpus import stopwords\n",
    "from nltk.collocations import *\n",
    "import pandas as pd\n",
    "import matplotlib.pyplot as plt\n"
   ]
  },
  {
   "cell_type": "code",
   "execution_count": 2,
   "id": "49efc8e7",
   "metadata": {},
   "outputs": [],
   "source": [
    "github_url = 'https://api.github.com/search/repositories'"
   ]
  },
  {
   "cell_type": "code",
   "execution_count": 3,
   "id": "f276226b",
   "metadata": {},
   "outputs": [],
   "source": [
    "q = '\"Pandora Radio\"'"
   ]
  },
  {
   "cell_type": "code",
   "execution_count": 4,
   "id": "48dd7c51",
   "metadata": {},
   "outputs": [],
   "source": [
    "qparams = {'q' : q, 'sort' : 'stars', 'order': 'desc', 'per_page' : 100}"
   ]
  },
  {
   "cell_type": "code",
   "execution_count": 5,
   "id": "e67293bd",
   "metadata": {},
   "outputs": [
    {
     "data": {
      "text/plain": [
       "<Response [200]>"
      ]
     },
     "execution_count": 5,
     "metadata": {},
     "output_type": "execute_result"
    }
   ],
   "source": [
    "r = requests.get(url=github_url, params=qparams)\n",
    "r"
   ]
  },
  {
   "cell_type": "code",
   "execution_count": 6,
   "id": "a805e808",
   "metadata": {},
   "outputs": [
    {
     "data": {
      "text/plain": [
       "dict_keys(['total_count', 'incomplete_results', 'items'])"
      ]
     },
     "execution_count": 6,
     "metadata": {},
     "output_type": "execute_result"
    }
   ],
   "source": [
    "res = r.json()\n",
    "res.keys()"
   ]
  },
  {
   "cell_type": "code",
   "execution_count": 7,
   "id": "0bc7df51",
   "metadata": {},
   "outputs": [
    {
     "data": {
      "text/plain": [
       "35"
      ]
     },
     "execution_count": 7,
     "metadata": {},
     "output_type": "execute_result"
    }
   ],
   "source": [
    "len(res['items'])"
   ]
  },
  {
   "cell_type": "code",
   "execution_count": 8,
   "id": "b846064e",
   "metadata": {},
   "outputs": [
    {
     "data": {
      "text/plain": [
       "{'id': 153385282,\n",
       " 'node_id': 'MDEwOlJlcG9zaXRvcnkxNTMzODUyODI=',\n",
       " 'name': 'milkshake',\n",
       " 'full_name': 'skiptomyliu/milkshake',\n",
       " 'private': False,\n",
       " 'owner': {'login': 'skiptomyliu',\n",
       "  'id': 3451399,\n",
       "  'node_id': 'MDQ6VXNlcjM0NTEzOTk=',\n",
       "  'avatar_url': 'https://avatars.githubusercontent.com/u/3451399?v=4',\n",
       "  'gravatar_id': '',\n",
       "  'url': 'https://api.github.com/users/skiptomyliu',\n",
       "  'html_url': 'https://github.com/skiptomyliu',\n",
       "  'followers_url': 'https://api.github.com/users/skiptomyliu/followers',\n",
       "  'following_url': 'https://api.github.com/users/skiptomyliu/following{/other_user}',\n",
       "  'gists_url': 'https://api.github.com/users/skiptomyliu/gists{/gist_id}',\n",
       "  'starred_url': 'https://api.github.com/users/skiptomyliu/starred{/owner}{/repo}',\n",
       "  'subscriptions_url': 'https://api.github.com/users/skiptomyliu/subscriptions',\n",
       "  'organizations_url': 'https://api.github.com/users/skiptomyliu/orgs',\n",
       "  'repos_url': 'https://api.github.com/users/skiptomyliu/repos',\n",
       "  'events_url': 'https://api.github.com/users/skiptomyliu/events{/privacy}',\n",
       "  'received_events_url': 'https://api.github.com/users/skiptomyliu/received_events',\n",
       "  'type': 'User',\n",
       "  'site_admin': False},\n",
       " 'html_url': 'https://github.com/skiptomyliu/milkshake',\n",
       " 'description': 'Minimalist Pandora Radio macOS app',\n",
       " 'fork': False,\n",
       " 'url': 'https://api.github.com/repos/skiptomyliu/milkshake',\n",
       " 'forks_url': 'https://api.github.com/repos/skiptomyliu/milkshake/forks',\n",
       " 'keys_url': 'https://api.github.com/repos/skiptomyliu/milkshake/keys{/key_id}',\n",
       " 'collaborators_url': 'https://api.github.com/repos/skiptomyliu/milkshake/collaborators{/collaborator}',\n",
       " 'teams_url': 'https://api.github.com/repos/skiptomyliu/milkshake/teams',\n",
       " 'hooks_url': 'https://api.github.com/repos/skiptomyliu/milkshake/hooks',\n",
       " 'issue_events_url': 'https://api.github.com/repos/skiptomyliu/milkshake/issues/events{/number}',\n",
       " 'events_url': 'https://api.github.com/repos/skiptomyliu/milkshake/events',\n",
       " 'assignees_url': 'https://api.github.com/repos/skiptomyliu/milkshake/assignees{/user}',\n",
       " 'branches_url': 'https://api.github.com/repos/skiptomyliu/milkshake/branches{/branch}',\n",
       " 'tags_url': 'https://api.github.com/repos/skiptomyliu/milkshake/tags',\n",
       " 'blobs_url': 'https://api.github.com/repos/skiptomyliu/milkshake/git/blobs{/sha}',\n",
       " 'git_tags_url': 'https://api.github.com/repos/skiptomyliu/milkshake/git/tags{/sha}',\n",
       " 'git_refs_url': 'https://api.github.com/repos/skiptomyliu/milkshake/git/refs{/sha}',\n",
       " 'trees_url': 'https://api.github.com/repos/skiptomyliu/milkshake/git/trees{/sha}',\n",
       " 'statuses_url': 'https://api.github.com/repos/skiptomyliu/milkshake/statuses/{sha}',\n",
       " 'languages_url': 'https://api.github.com/repos/skiptomyliu/milkshake/languages',\n",
       " 'stargazers_url': 'https://api.github.com/repos/skiptomyliu/milkshake/stargazers',\n",
       " 'contributors_url': 'https://api.github.com/repos/skiptomyliu/milkshake/contributors',\n",
       " 'subscribers_url': 'https://api.github.com/repos/skiptomyliu/milkshake/subscribers',\n",
       " 'subscription_url': 'https://api.github.com/repos/skiptomyliu/milkshake/subscription',\n",
       " 'commits_url': 'https://api.github.com/repos/skiptomyliu/milkshake/commits{/sha}',\n",
       " 'git_commits_url': 'https://api.github.com/repos/skiptomyliu/milkshake/git/commits{/sha}',\n",
       " 'comments_url': 'https://api.github.com/repos/skiptomyliu/milkshake/comments{/number}',\n",
       " 'issue_comment_url': 'https://api.github.com/repos/skiptomyliu/milkshake/issues/comments{/number}',\n",
       " 'contents_url': 'https://api.github.com/repos/skiptomyliu/milkshake/contents/{+path}',\n",
       " 'compare_url': 'https://api.github.com/repos/skiptomyliu/milkshake/compare/{base}...{head}',\n",
       " 'merges_url': 'https://api.github.com/repos/skiptomyliu/milkshake/merges',\n",
       " 'archive_url': 'https://api.github.com/repos/skiptomyliu/milkshake/{archive_format}{/ref}',\n",
       " 'downloads_url': 'https://api.github.com/repos/skiptomyliu/milkshake/downloads',\n",
       " 'issues_url': 'https://api.github.com/repos/skiptomyliu/milkshake/issues{/number}',\n",
       " 'pulls_url': 'https://api.github.com/repos/skiptomyliu/milkshake/pulls{/number}',\n",
       " 'milestones_url': 'https://api.github.com/repos/skiptomyliu/milkshake/milestones{/number}',\n",
       " 'notifications_url': 'https://api.github.com/repos/skiptomyliu/milkshake/notifications{?since,all,participating}',\n",
       " 'labels_url': 'https://api.github.com/repos/skiptomyliu/milkshake/labels{/name}',\n",
       " 'releases_url': 'https://api.github.com/repos/skiptomyliu/milkshake/releases{/id}',\n",
       " 'deployments_url': 'https://api.github.com/repos/skiptomyliu/milkshake/deployments',\n",
       " 'created_at': '2018-10-17T02:42:48Z',\n",
       " 'updated_at': '2021-06-23T07:36:42Z',\n",
       " 'pushed_at': '2019-04-07T16:16:03Z',\n",
       " 'git_url': 'git://github.com/skiptomyliu/milkshake.git',\n",
       " 'ssh_url': 'git@github.com:skiptomyliu/milkshake.git',\n",
       " 'clone_url': 'https://github.com/skiptomyliu/milkshake.git',\n",
       " 'svn_url': 'https://github.com/skiptomyliu/milkshake',\n",
       " 'homepage': '',\n",
       " 'size': 105525,\n",
       " 'stargazers_count': 27,\n",
       " 'watchers_count': 27,\n",
       " 'language': 'Swift',\n",
       " 'has_issues': True,\n",
       " 'has_projects': True,\n",
       " 'has_downloads': True,\n",
       " 'has_wiki': True,\n",
       " 'has_pages': False,\n",
       " 'forks_count': 1,\n",
       " 'mirror_url': None,\n",
       " 'archived': False,\n",
       " 'disabled': False,\n",
       " 'open_issues_count': 10,\n",
       " 'license': None,\n",
       " 'forks': 1,\n",
       " 'open_issues': 10,\n",
       " 'watchers': 27,\n",
       " 'default_branch': 'master',\n",
       " 'score': 1.0}"
      ]
     },
     "execution_count": 8,
     "metadata": {},
     "output_type": "execute_result"
    }
   ],
   "source": [
    "res['items'][2]"
   ]
  },
  {
   "cell_type": "code",
   "execution_count": 9,
   "id": "dfa0c9fe",
   "metadata": {},
   "outputs": [
    {
     "data": {
      "text/plain": [
       "'Minimalist Pandora Radio macOS app'"
      ]
     },
     "execution_count": 9,
     "metadata": {},
     "output_type": "execute_result"
    }
   ],
   "source": [
    "res['items'][2]['description']"
   ]
  },
  {
   "cell_type": "code",
   "execution_count": 10,
   "id": "4fef318d",
   "metadata": {},
   "outputs": [
    {
     "data": {
      "text/plain": [
       "35"
      ]
     },
     "execution_count": 10,
     "metadata": {},
     "output_type": "execute_result"
    }
   ],
   "source": [
    "len(res['items'])"
   ]
  },
  {
   "cell_type": "code",
   "execution_count": 11,
   "id": "5ec6fd88",
   "metadata": {},
   "outputs": [],
   "source": [
    "stop_words = set(stopwords.words('english'))\n",
    "def text_cleanup(s):\n",
    "    # if not a string object, disregard\n",
    "    if not isinstance(s, str):\n",
    "        return ''\n",
    "    \n",
    "    s_unesc = html.unescape(re.sub(r\"http\\S+\", \"\", re.sub('\\n+', ' ', s)))\n",
    "    s_noemoji = s_unesc.encode('ascii', 'ignore').decode('ascii')\n",
    "    # normalize to lowercase and tokenize\n",
    "    wt = word_tokenize(s_noemoji.lower())\n",
    "    \n",
    "    # filter word-tokens\n",
    "    wt_filt = [w for w in wt if (w not in stop_words) and (w not in string.punctuation) and w.isalnum()]\n",
    "    \n",
    "    # return clean string\n",
    "    return ' '.join(wt_filt)"
   ]
  },
  {
   "cell_type": "code",
   "execution_count": 12,
   "id": "451c5f06",
   "metadata": {},
   "outputs": [
    {
     "data": {
      "text/plain": [
       "'minimalist pandora radio macos app'"
      ]
     },
     "execution_count": 12,
     "metadata": {},
     "output_type": "execute_result"
    }
   ],
   "source": [
    "text_cleanup(res['items'][2]['description'])"
   ]
  },
  {
   "cell_type": "code",
   "execution_count": 13,
   "id": "3312ac51",
   "metadata": {},
   "outputs": [],
   "source": [
    "descr = [text_cleanup(r['description']) for r in res['items']]"
   ]
  },
  {
   "cell_type": "code",
   "execution_count": null,
   "id": "dbd2a985",
   "metadata": {},
   "outputs": [],
   "source": []
  },
  {
   "cell_type": "code",
   "execution_count": 14,
   "id": "a5eab168",
   "metadata": {},
   "outputs": [],
   "source": [
    "bigram_measures = nltk.collocations.BigramAssocMeasures()\n",
    "bigram_finder = BigramCollocationFinder.from_documents([d.split() for d in descr])"
   ]
  },
  {
   "cell_type": "code",
   "execution_count": 15,
   "id": "0ae8c1ec",
   "metadata": {},
   "outputs": [],
   "source": [
    "bigram_finder.apply_freq_filter(3)"
   ]
  },
  {
   "cell_type": "code",
   "execution_count": 16,
   "id": "2ac4130a",
   "metadata": {},
   "outputs": [
    {
     "data": {
      "text/plain": [
       "[(('pandora', 'radio'), 33),\n",
       " (('radio', 'client'), 5),\n",
       " (('chrome', 'extension'), 3),\n",
       " (('raspberry', 'pi'), 3)]"
      ]
     },
     "execution_count": 16,
     "metadata": {},
     "output_type": "execute_result"
    }
   ],
   "source": [
    "bigram_freq = list(bigram_finder.ngram_fd.items())\n",
    "bigram_freq"
   ]
  },
  {
   "cell_type": "code",
   "execution_count": 17,
   "id": "d7584e51",
   "metadata": {},
   "outputs": [
    {
     "data": {
      "text/html": [
       "<div>\n",
       "<style scoped>\n",
       "    .dataframe tbody tr th:only-of-type {\n",
       "        vertical-align: middle;\n",
       "    }\n",
       "\n",
       "    .dataframe tbody tr th {\n",
       "        vertical-align: top;\n",
       "    }\n",
       "\n",
       "    .dataframe thead th {\n",
       "        text-align: right;\n",
       "    }\n",
       "</style>\n",
       "<table border=\"1\" class=\"dataframe\">\n",
       "  <thead>\n",
       "    <tr style=\"text-align: right;\">\n",
       "      <th></th>\n",
       "      <th>count</th>\n",
       "    </tr>\n",
       "    <tr>\n",
       "      <th>keyphrase</th>\n",
       "      <th></th>\n",
       "    </tr>\n",
       "  </thead>\n",
       "  <tbody>\n",
       "    <tr>\n",
       "      <th>pandora radio</th>\n",
       "      <td>33</td>\n",
       "    </tr>\n",
       "    <tr>\n",
       "      <th>radio client</th>\n",
       "      <td>5</td>\n",
       "    </tr>\n",
       "    <tr>\n",
       "      <th>chrome extension</th>\n",
       "      <td>3</td>\n",
       "    </tr>\n",
       "    <tr>\n",
       "      <th>raspberry pi</th>\n",
       "      <td>3</td>\n",
       "    </tr>\n",
       "  </tbody>\n",
       "</table>\n",
       "</div>"
      ],
      "text/plain": [
       "                  count\n",
       "keyphrase              \n",
       "pandora radio        33\n",
       "radio client          5\n",
       "chrome extension      3\n",
       "raspberry pi          3"
      ]
     },
     "execution_count": 17,
     "metadata": {},
     "output_type": "execute_result"
    }
   ],
   "source": [
    "df_freq = pd.DataFrame([(' '.join(k), v) for k,v in bigram_freq], columns=['keyphrase', 'count'])\n",
    "df_freq.sort_values(by='count', ascending=False, inplace=True)\n",
    "df_freq.set_index('keyphrase', inplace = True)\n",
    "df_freq"
   ]
  },
  {
   "cell_type": "code",
   "execution_count": 18,
   "id": "28c26317",
   "metadata": {},
   "outputs": [
    {
     "data": {
      "image/png": "[encoded data removed]",
      "text/plain": [
       "<Figure size 432x288 with 1 Axes>"
      ]
     },
     "metadata": {},
     "output_type": "display_data"
    }
   ],
   "source": [
    "plt.style.use('ggplot')\n",
    "\n",
    "# render a horizontal bar graph\n",
    "df_freq.head(20).sort_values(by='count').plot(kind = 'barh')\n",
    "plt.title('Trending keyphrases')\n",
    "plt.ylabel('phrase')\n",
    "plt.xlabel('count')\n",
    "plt.legend().set_visible(False)\n",
    "plt.show()"
   ]
  },
  {
   "cell_type": "code",
   "execution_count": null,
   "id": "084e04b7",
   "metadata": {},
   "outputs": [],
   "source": []
  }
 ],
 "metadata": {
  "kernelspec": {
   "display_name": "Python 3",
   "language": "python",
   "name": "python3"
  },
  "language_info": {
   "codemirror_mode": {
    "name": "ipython",
    "version": 3
   },
   "file_extension": ".py",
   "mimetype": "text/x-python",
   "name": "python",
   "nbconvert_exporter": "python",
   "pygments_lexer": "ipython3",
   "version": "3.7.10"
  }
 },
 "nbformat": 4,
 "nbformat_minor": 5
}
