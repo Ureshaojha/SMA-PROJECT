{
 "cells": [
  {
   "cell_type": "code",
   "execution_count": 1,
   "id": "b89a5bca",
   "metadata": {},
   "outputs": [],
   "source": [
    "import requests\n",
    "import html\n",
    "import string\n",
    "import re\n",
    "import nltk\n",
    "from nltk import word_tokenize\n",
    "from nltk.corpus import stopwords\n",
    "from nltk.collocations import *\n",
    "import pandas as pd\n",
    "import matplotlib.pyplot as plt"
   ]
  },
  {
   "cell_type": "code",
   "execution_count": 2,
   "id": "f41984c9",
   "metadata": {},
   "outputs": [],
   "source": [
    "github_url = 'https://api.github.com/search/repositories'"
   ]
  },
  {
   "cell_type": "code",
   "execution_count": 3,
   "id": "0c941109",
   "metadata": {},
   "outputs": [],
   "source": [
    "q = '\"Amazon music\"'"
   ]
  },
  {
   "cell_type": "code",
   "execution_count": 4,
   "id": "a6040c85",
   "metadata": {},
   "outputs": [],
   "source": [
    "qparams = {'q' : q, 'sort' : 'stars', 'order': 'desc', 'per_page' : 100}"
   ]
  },
  {
   "cell_type": "code",
   "execution_count": 5,
   "id": "f7260067",
   "metadata": {},
   "outputs": [
    {
     "data": {
      "text/plain": [
       "<Response [200]>"
      ]
     },
     "execution_count": 5,
     "metadata": {},
     "output_type": "execute_result"
    }
   ],
   "source": [
    "r = requests.get(url=github_url, params=qparams)\n",
    "r"
   ]
  },
  {
   "cell_type": "code",
   "execution_count": 6,
   "id": "b69c985c",
   "metadata": {},
   "outputs": [
    {
     "data": {
      "text/plain": [
       "dict_keys(['total_count', 'incomplete_results', 'items'])"
      ]
     },
     "execution_count": 6,
     "metadata": {},
     "output_type": "execute_result"
    }
   ],
   "source": [
    "res = r.json()\n",
    "res.keys()"
   ]
  },
  {
   "cell_type": "code",
   "execution_count": 7,
   "id": "ed067609",
   "metadata": {},
   "outputs": [
    {
     "data": {
      "text/plain": [
       "100"
      ]
     },
     "execution_count": 7,
     "metadata": {},
     "output_type": "execute_result"
    }
   ],
   "source": [
    "len(res['items'])"
   ]
  },
  {
   "cell_type": "code",
   "execution_count": 8,
   "id": "cfaa6699",
   "metadata": {},
   "outputs": [
    {
     "data": {
      "text/plain": [
       "{'id': 105060592,\n",
       " 'node_id': 'MDEwOlJlcG9zaXRvcnkxMDUwNjA1OTI=',\n",
       " 'name': 'playlist-importer',\n",
       " 'full_name': 'OzTK/playlist-importer',\n",
       " 'private': False,\n",
       " 'owner': {'login': 'OzTK',\n",
       "  'id': 3990862,\n",
       "  'node_id': 'MDQ6VXNlcjM5OTA4NjI=',\n",
       "  'avatar_url': 'https://avatars.githubusercontent.com/u/3990862?v=4',\n",
       "  'gravatar_id': '',\n",
       "  'url': 'https://api.github.com/users/OzTK',\n",
       "  'html_url': 'https://github.com/OzTK',\n",
       "  'followers_url': 'https://api.github.com/users/OzTK/followers',\n",
       "  'following_url': 'https://api.github.com/users/OzTK/following{/other_user}',\n",
       "  'gists_url': 'https://api.github.com/users/OzTK/gists{/gist_id}',\n",
       "  'starred_url': 'https://api.github.com/users/OzTK/starred{/owner}{/repo}',\n",
       "  'subscriptions_url': 'https://api.github.com/users/OzTK/subscriptions',\n",
       "  'organizations_url': 'https://api.github.com/users/OzTK/orgs',\n",
       "  'repos_url': 'https://api.github.com/users/OzTK/repos',\n",
       "  'events_url': 'https://api.github.com/users/OzTK/events{/privacy}',\n",
       "  'received_events_url': 'https://api.github.com/users/OzTK/received_events',\n",
       "  'type': 'User',\n",
       "  'site_admin': False},\n",
       " 'html_url': 'https://github.com/OzTK/playlist-importer',\n",
       " 'description': 'Import your playlist from and to Spotify, Deezer, Amazon Music, Google Music and so on!',\n",
       " 'fork': False,\n",
       " 'url': 'https://api.github.com/repos/OzTK/playlist-importer',\n",
       " 'forks_url': 'https://api.github.com/repos/OzTK/playlist-importer/forks',\n",
       " 'keys_url': 'https://api.github.com/repos/OzTK/playlist-importer/keys{/key_id}',\n",
       " 'collaborators_url': 'https://api.github.com/repos/OzTK/playlist-importer/collaborators{/collaborator}',\n",
       " 'teams_url': 'https://api.github.com/repos/OzTK/playlist-importer/teams',\n",
       " 'hooks_url': 'https://api.github.com/repos/OzTK/playlist-importer/hooks',\n",
       " 'issue_events_url': 'https://api.github.com/repos/OzTK/playlist-importer/issues/events{/number}',\n",
       " 'events_url': 'https://api.github.com/repos/OzTK/playlist-importer/events',\n",
       " 'assignees_url': 'https://api.github.com/repos/OzTK/playlist-importer/assignees{/user}',\n",
       " 'branches_url': 'https://api.github.com/repos/OzTK/playlist-importer/branches{/branch}',\n",
       " 'tags_url': 'https://api.github.com/repos/OzTK/playlist-importer/tags',\n",
       " 'blobs_url': 'https://api.github.com/repos/OzTK/playlist-importer/git/blobs{/sha}',\n",
       " 'git_tags_url': 'https://api.github.com/repos/OzTK/playlist-importer/git/tags{/sha}',\n",
       " 'git_refs_url': 'https://api.github.com/repos/OzTK/playlist-importer/git/refs{/sha}',\n",
       " 'trees_url': 'https://api.github.com/repos/OzTK/playlist-importer/git/trees{/sha}',\n",
       " 'statuses_url': 'https://api.github.com/repos/OzTK/playlist-importer/statuses/{sha}',\n",
       " 'languages_url': 'https://api.github.com/repos/OzTK/playlist-importer/languages',\n",
       " 'stargazers_url': 'https://api.github.com/repos/OzTK/playlist-importer/stargazers',\n",
       " 'contributors_url': 'https://api.github.com/repos/OzTK/playlist-importer/contributors',\n",
       " 'subscribers_url': 'https://api.github.com/repos/OzTK/playlist-importer/subscribers',\n",
       " 'subscription_url': 'https://api.github.com/repos/OzTK/playlist-importer/subscription',\n",
       " 'commits_url': 'https://api.github.com/repos/OzTK/playlist-importer/commits{/sha}',\n",
       " 'git_commits_url': 'https://api.github.com/repos/OzTK/playlist-importer/git/commits{/sha}',\n",
       " 'comments_url': 'https://api.github.com/repos/OzTK/playlist-importer/comments{/number}',\n",
       " 'issue_comment_url': 'https://api.github.com/repos/OzTK/playlist-importer/issues/comments{/number}',\n",
       " 'contents_url': 'https://api.github.com/repos/OzTK/playlist-importer/contents/{+path}',\n",
       " 'compare_url': 'https://api.github.com/repos/OzTK/playlist-importer/compare/{base}...{head}',\n",
       " 'merges_url': 'https://api.github.com/repos/OzTK/playlist-importer/merges',\n",
       " 'archive_url': 'https://api.github.com/repos/OzTK/playlist-importer/{archive_format}{/ref}',\n",
       " 'downloads_url': 'https://api.github.com/repos/OzTK/playlist-importer/downloads',\n",
       " 'issues_url': 'https://api.github.com/repos/OzTK/playlist-importer/issues{/number}',\n",
       " 'pulls_url': 'https://api.github.com/repos/OzTK/playlist-importer/pulls{/number}',\n",
       " 'milestones_url': 'https://api.github.com/repos/OzTK/playlist-importer/milestones{/number}',\n",
       " 'notifications_url': 'https://api.github.com/repos/OzTK/playlist-importer/notifications{?since,all,participating}',\n",
       " 'labels_url': 'https://api.github.com/repos/OzTK/playlist-importer/labels{/name}',\n",
       " 'releases_url': 'https://api.github.com/repos/OzTK/playlist-importer/releases{/id}',\n",
       " 'deployments_url': 'https://api.github.com/repos/OzTK/playlist-importer/deployments',\n",
       " 'created_at': '2017-09-27T19:30:17Z',\n",
       " 'updated_at': '2021-07-08T13:22:46Z',\n",
       " 'pushed_at': '2021-06-27T17:38:58Z',\n",
       " 'git_url': 'git://github.com/OzTK/playlist-importer.git',\n",
       " 'ssh_url': 'git@github.com:OzTK/playlist-importer.git',\n",
       " 'clone_url': 'https://github.com/OzTK/playlist-importer.git',\n",
       " 'svn_url': 'https://github.com/OzTK/playlist-importer',\n",
       " 'homepage': 'https://musync.co.uk/',\n",
       " 'size': 5770,\n",
       " 'stargazers_count': 16,\n",
       " 'watchers_count': 16,\n",
       " 'language': 'JavaScript',\n",
       " 'has_issues': True,\n",
       " 'has_projects': True,\n",
       " 'has_downloads': True,\n",
       " 'has_wiki': True,\n",
       " 'has_pages': True,\n",
       " 'forks_count': 0,\n",
       " 'mirror_url': None,\n",
       " 'archived': False,\n",
       " 'disabled': False,\n",
       " 'open_issues_count': 4,\n",
       " 'license': None,\n",
       " 'forks': 0,\n",
       " 'open_issues': 4,\n",
       " 'watchers': 16,\n",
       " 'default_branch': 'master',\n",
       " 'score': 1.0}"
      ]
     },
     "execution_count": 8,
     "metadata": {},
     "output_type": "execute_result"
    }
   ],
   "source": [
    "res['items'][2]"
   ]
  },
  {
   "cell_type": "code",
   "execution_count": 9,
   "id": "8861e90e",
   "metadata": {},
   "outputs": [
    {
     "data": {
      "text/plain": [
       "'Import your playlist from and to Spotify, Deezer, Amazon Music, Google Music and so on!'"
      ]
     },
     "execution_count": 9,
     "metadata": {},
     "output_type": "execute_result"
    }
   ],
   "source": [
    "res['items'][2]['description']"
   ]
  },
  {
   "cell_type": "code",
   "execution_count": 10,
   "id": "64d2985e",
   "metadata": {},
   "outputs": [
    {
     "data": {
      "text/plain": [
       "100"
      ]
     },
     "execution_count": 10,
     "metadata": {},
     "output_type": "execute_result"
    }
   ],
   "source": [
    "len(res['items'])"
   ]
  },
  {
   "cell_type": "code",
   "execution_count": 11,
   "id": "6bc10436",
   "metadata": {},
   "outputs": [],
   "source": [
    "stop_words = set(stopwords.words('english'))\n",
    "def text_cleanup(s):\n",
    "    # if not a string object, disregard\n",
    "    if not isinstance(s, str):\n",
    "        return ''\n",
    "    \n",
    "    s_unesc = html.unescape(re.sub(r\"http\\S+\", \"\", re.sub('\\n+', ' ', s)))\n",
    "    s_noemoji = s_unesc.encode('ascii', 'ignore').decode('ascii')\n",
    "    # normalize to lowercase and tokenize\n",
    "    wt = word_tokenize(s_noemoji.lower())\n",
    "    \n",
    "    # filter word-tokens\n",
    "    wt_filt = [w for w in wt if (w not in stop_words) and (w not in string.punctuation) and w.isalnum()]\n",
    "    \n",
    "    # return clean string\n",
    "    return ' '.join(wt_filt)"
   ]
  },
  {
   "cell_type": "code",
   "execution_count": 12,
   "id": "648125e0",
   "metadata": {},
   "outputs": [
    {
     "data": {
      "text/plain": [
       "'import playlist spotify deezer amazon music google music'"
      ]
     },
     "execution_count": 12,
     "metadata": {},
     "output_type": "execute_result"
    }
   ],
   "source": [
    "text_cleanup(res['items'][2]['description'])"
   ]
  },
  {
   "cell_type": "code",
   "execution_count": 13,
   "id": "2f7f35ba",
   "metadata": {},
   "outputs": [],
   "source": [
    "descr = [text_cleanup(r['description']) for r in res['items']]"
   ]
  },
  {
   "cell_type": "code",
   "execution_count": 14,
   "id": "b1bc8376",
   "metadata": {},
   "outputs": [],
   "source": [
    "bigram_measures = nltk.collocations.BigramAssocMeasures()\n",
    "bigram_finder = BigramCollocationFinder.from_documents([d.split() for d in descr])"
   ]
  },
  {
   "cell_type": "code",
   "execution_count": 15,
   "id": "f6978db0",
   "metadata": {},
   "outputs": [],
   "source": [
    "bigram_finder.apply_freq_filter(3)"
   ]
  },
  {
   "cell_type": "code",
   "execution_count": 16,
   "id": "a9bbc395",
   "metadata": {},
   "outputs": [
    {
     "data": {
      "text/plain": [
       "[(('amazon', 'music'), 46),\n",
       " (('amazon', 'reviews'), 3),\n",
       " (('music', 'player'), 5),\n",
       " (('spotify', 'amazon'), 5),\n",
       " (('data', 'using'), 3),\n",
       " (('control', 'amazon'), 3),\n",
       " (('reviews', 'amazon'), 3),\n",
       " (('amazon', 'musical'), 3),\n",
       " (('musical', 'instrument'), 3),\n",
       " (('instrument', 'reviews'), 3),\n",
       " (('music', 'reviews'), 3),\n",
       " (('tu', 'ta'), 5),\n",
       " (('hun', 'rhna'), 3),\n",
       " (('rhna', 'mere'), 3),\n",
       " (('mere', 'kolo'), 3),\n",
       " (('kolo', 'tu'), 3),\n",
       " (('ta', 'pre'), 3),\n",
       " (('pre', 'pre'), 3)]"
      ]
     },
     "execution_count": 16,
     "metadata": {},
     "output_type": "execute_result"
    }
   ],
   "source": [
    "bigram_freq = list(bigram_finder.ngram_fd.items())\n",
    "bigram_freq"
   ]
  },
  {
   "cell_type": "code",
   "execution_count": 17,
   "id": "6b2d1d68",
   "metadata": {},
   "outputs": [
    {
     "data": {
      "text/html": [
       "<div>\n",
       "<style scoped>\n",
       "    .dataframe tbody tr th:only-of-type {\n",
       "        vertical-align: middle;\n",
       "    }\n",
       "\n",
       "    .dataframe tbody tr th {\n",
       "        vertical-align: top;\n",
       "    }\n",
       "\n",
       "    .dataframe thead th {\n",
       "        text-align: right;\n",
       "    }\n",
       "</style>\n",
       "<table border=\"1\" class=\"dataframe\">\n",
       "  <thead>\n",
       "    <tr style=\"text-align: right;\">\n",
       "      <th></th>\n",
       "      <th>count</th>\n",
       "    </tr>\n",
       "    <tr>\n",
       "      <th>keyphrase</th>\n",
       "      <th></th>\n",
       "    </tr>\n",
       "  </thead>\n",
       "  <tbody>\n",
       "    <tr>\n",
       "      <th>amazon music</th>\n",
       "      <td>46</td>\n",
       "    </tr>\n",
       "    <tr>\n",
       "      <th>music player</th>\n",
       "      <td>5</td>\n",
       "    </tr>\n",
       "    <tr>\n",
       "      <th>spotify amazon</th>\n",
       "      <td>5</td>\n",
       "    </tr>\n",
       "    <tr>\n",
       "      <th>tu ta</th>\n",
       "      <td>5</td>\n",
       "    </tr>\n",
       "    <tr>\n",
       "      <th>music reviews</th>\n",
       "      <td>3</td>\n",
       "    </tr>\n",
       "    <tr>\n",
       "      <th>ta pre</th>\n",
       "      <td>3</td>\n",
       "    </tr>\n",
       "    <tr>\n",
       "      <th>kolo tu</th>\n",
       "      <td>3</td>\n",
       "    </tr>\n",
       "    <tr>\n",
       "      <th>mere kolo</th>\n",
       "      <td>3</td>\n",
       "    </tr>\n",
       "    <tr>\n",
       "      <th>rhna mere</th>\n",
       "      <td>3</td>\n",
       "    </tr>\n",
       "    <tr>\n",
       "      <th>hun rhna</th>\n",
       "      <td>3</td>\n",
       "    </tr>\n",
       "    <tr>\n",
       "      <th>instrument reviews</th>\n",
       "      <td>3</td>\n",
       "    </tr>\n",
       "    <tr>\n",
       "      <th>amazon reviews</th>\n",
       "      <td>3</td>\n",
       "    </tr>\n",
       "    <tr>\n",
       "      <th>musical instrument</th>\n",
       "      <td>3</td>\n",
       "    </tr>\n",
       "    <tr>\n",
       "      <th>amazon musical</th>\n",
       "      <td>3</td>\n",
       "    </tr>\n",
       "    <tr>\n",
       "      <th>reviews amazon</th>\n",
       "      <td>3</td>\n",
       "    </tr>\n",
       "    <tr>\n",
       "      <th>control amazon</th>\n",
       "      <td>3</td>\n",
       "    </tr>\n",
       "    <tr>\n",
       "      <th>data using</th>\n",
       "      <td>3</td>\n",
       "    </tr>\n",
       "    <tr>\n",
       "      <th>pre pre</th>\n",
       "      <td>3</td>\n",
       "    </tr>\n",
       "  </tbody>\n",
       "</table>\n",
       "</div>"
      ],
      "text/plain": [
       "                    count\n",
       "keyphrase                \n",
       "amazon music           46\n",
       "music player            5\n",
       "spotify amazon          5\n",
       "tu ta                   5\n",
       "music reviews           3\n",
       "ta pre                  3\n",
       "kolo tu                 3\n",
       "mere kolo               3\n",
       "rhna mere               3\n",
       "hun rhna                3\n",
       "instrument reviews      3\n",
       "amazon reviews          3\n",
       "musical instrument      3\n",
       "amazon musical          3\n",
       "reviews amazon          3\n",
       "control amazon          3\n",
       "data using              3\n",
       "pre pre                 3"
      ]
     },
     "execution_count": 17,
     "metadata": {},
     "output_type": "execute_result"
    }
   ],
   "source": [
    "df_freq = pd.DataFrame([(' '.join(k), v) for k,v in bigram_freq], columns=['keyphrase', 'count'])\n",
    "df_freq.sort_values(by='count', ascending=False, inplace=True)\n",
    "df_freq.set_index('keyphrase', inplace = True)\n",
    "df_freq"
   ]
  },
  {
   "cell_type": "code",
   "execution_count": 18,
   "id": "46173af5",
   "metadata": {},
   "outputs": [
    {
     "data": {
      "image/png": "[encoded data removed]",
      "text/plain": [
       "<Figure size 432x288 with 1 Axes>"
      ]
     },
     "metadata": {},
     "output_type": "display_data"
    }
   ],
   "source": [
    "plt.style.use('ggplot')\n",
    "\n",
    "# render a horizontal bar graph\n",
    "df_freq.head(20).sort_values(by='count').plot(kind = 'barh')\n",
    "plt.title('Trending keyphrases')\n",
    "plt.ylabel('phrase')\n",
    "plt.xlabel('count')\n",
    "plt.legend().set_visible(False)\n",
    "plt.show()"
   ]
  },
  {
   "cell_type": "code",
   "execution_count": null,
   "id": "6566741a",
   "metadata": {},
   "outputs": [],
   "source": []
  }
 ],
 "metadata": {
  "kernelspec": {
   "display_name": "Python 3",
   "language": "python",
   "name": "python3"
  },
  "language_info": {
   "codemirror_mode": {
    "name": "ipython",
    "version": 3
   },
   "file_extension": ".py",
   "mimetype": "text/x-python",
   "name": "python",
   "nbconvert_exporter": "python",
   "pygments_lexer": "ipython3",
   "version": "3.7.10"
  }
 },
 "nbformat": 4,
 "nbformat_minor": 5
}
