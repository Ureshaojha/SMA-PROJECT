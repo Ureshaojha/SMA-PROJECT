{
 "cells": [
  {
   "cell_type": "code",
   "execution_count": 1,
   "id": "01742c90",
   "metadata": {},
   "outputs": [],
   "source": [
    "import requests\n",
    "import html\n",
    "import string\n",
    "import re\n",
    "import nltk\n",
    "from nltk import word_tokenize\n",
    "from nltk.corpus import stopwords\n",
    "from nltk.collocations import *\n",
    "import pandas as pd\n",
    "import matplotlib.pyplot as plt"
   ]
  },
  {
   "cell_type": "code",
   "execution_count": 2,
   "id": "d0500c26",
   "metadata": {},
   "outputs": [],
   "source": [
    "github_url = 'https://api.github.com/search/repositories'"
   ]
  },
  {
   "cell_type": "code",
   "execution_count": 3,
   "id": "493d5175",
   "metadata": {},
   "outputs": [],
   "source": [
    "q = '\"soundcloud go\"'"
   ]
  },
  {
   "cell_type": "code",
   "execution_count": 4,
   "id": "26c8a6fe",
   "metadata": {},
   "outputs": [],
   "source": [
    "qparams = {'q' : q, 'sort' : 'forks', 'order': 'desc', 'per_page' : 100}"
   ]
  },
  {
   "cell_type": "code",
   "execution_count": 5,
   "id": "287bcc19",
   "metadata": {},
   "outputs": [
    {
     "data": {
      "text/plain": [
       "<Response [200]>"
      ]
     },
     "execution_count": 5,
     "metadata": {},
     "output_type": "execute_result"
    }
   ],
   "source": [
    "r = requests.get(url=github_url, params=qparams)\n",
    "r"
   ]
  },
  {
   "cell_type": "code",
   "execution_count": 6,
   "id": "8daf97d0",
   "metadata": {},
   "outputs": [
    {
     "data": {
      "text/plain": [
       "dict_keys(['total_count', 'incomplete_results', 'items'])"
      ]
     },
     "execution_count": 6,
     "metadata": {},
     "output_type": "execute_result"
    }
   ],
   "source": [
    "res = r.json()\n",
    "res.keys()"
   ]
  },
  {
   "cell_type": "code",
   "execution_count": 7,
   "id": "576ed34f",
   "metadata": {},
   "outputs": [
    {
     "data": {
      "text/plain": [
       "5"
      ]
     },
     "execution_count": 7,
     "metadata": {},
     "output_type": "execute_result"
    }
   ],
   "source": [
    "len(res['items'])"
   ]
  },
  {
   "cell_type": "code",
   "execution_count": 8,
   "id": "3927b68b",
   "metadata": {},
   "outputs": [
    {
     "data": {
      "text/plain": [
       "{'id': 103439143,\n",
       " 'node_id': 'MDEwOlJlcG9zaXRvcnkxMDM0MzkxNDM=',\n",
       " 'name': 'soundcloud_gopro',\n",
       " 'full_name': 'dagolinuxoid/soundcloud_gopro',\n",
       " 'private': False,\n",
       " 'owner': {'login': 'dagolinuxoid',\n",
       "  'id': 7243749,\n",
       "  'node_id': 'MDQ6VXNlcjcyNDM3NDk=',\n",
       "  'avatar_url': 'https://avatars.githubusercontent.com/u/7243749?v=4',\n",
       "  'gravatar_id': '',\n",
       "  'url': 'https://api.github.com/users/dagolinuxoid',\n",
       "  'html_url': 'https://github.com/dagolinuxoid',\n",
       "  'followers_url': 'https://api.github.com/users/dagolinuxoid/followers',\n",
       "  'following_url': 'https://api.github.com/users/dagolinuxoid/following{/other_user}',\n",
       "  'gists_url': 'https://api.github.com/users/dagolinuxoid/gists{/gist_id}',\n",
       "  'starred_url': 'https://api.github.com/users/dagolinuxoid/starred{/owner}{/repo}',\n",
       "  'subscriptions_url': 'https://api.github.com/users/dagolinuxoid/subscriptions',\n",
       "  'organizations_url': 'https://api.github.com/users/dagolinuxoid/orgs',\n",
       "  'repos_url': 'https://api.github.com/users/dagolinuxoid/repos',\n",
       "  'events_url': 'https://api.github.com/users/dagolinuxoid/events{/privacy}',\n",
       "  'received_events_url': 'https://api.github.com/users/dagolinuxoid/received_events',\n",
       "  'type': 'User',\n",
       "  'site_admin': False},\n",
       " 'html_url': 'https://github.com/dagolinuxoid/soundcloud_gopro',\n",
       " 'description': 'html css',\n",
       " 'fork': False,\n",
       " 'url': 'https://api.github.com/repos/dagolinuxoid/soundcloud_gopro',\n",
       " 'forks_url': 'https://api.github.com/repos/dagolinuxoid/soundcloud_gopro/forks',\n",
       " 'keys_url': 'https://api.github.com/repos/dagolinuxoid/soundcloud_gopro/keys{/key_id}',\n",
       " 'collaborators_url': 'https://api.github.com/repos/dagolinuxoid/soundcloud_gopro/collaborators{/collaborator}',\n",
       " 'teams_url': 'https://api.github.com/repos/dagolinuxoid/soundcloud_gopro/teams',\n",
       " 'hooks_url': 'https://api.github.com/repos/dagolinuxoid/soundcloud_gopro/hooks',\n",
       " 'issue_events_url': 'https://api.github.com/repos/dagolinuxoid/soundcloud_gopro/issues/events{/number}',\n",
       " 'events_url': 'https://api.github.com/repos/dagolinuxoid/soundcloud_gopro/events',\n",
       " 'assignees_url': 'https://api.github.com/repos/dagolinuxoid/soundcloud_gopro/assignees{/user}',\n",
       " 'branches_url': 'https://api.github.com/repos/dagolinuxoid/soundcloud_gopro/branches{/branch}',\n",
       " 'tags_url': 'https://api.github.com/repos/dagolinuxoid/soundcloud_gopro/tags',\n",
       " 'blobs_url': 'https://api.github.com/repos/dagolinuxoid/soundcloud_gopro/git/blobs{/sha}',\n",
       " 'git_tags_url': 'https://api.github.com/repos/dagolinuxoid/soundcloud_gopro/git/tags{/sha}',\n",
       " 'git_refs_url': 'https://api.github.com/repos/dagolinuxoid/soundcloud_gopro/git/refs{/sha}',\n",
       " 'trees_url': 'https://api.github.com/repos/dagolinuxoid/soundcloud_gopro/git/trees{/sha}',\n",
       " 'statuses_url': 'https://api.github.com/repos/dagolinuxoid/soundcloud_gopro/statuses/{sha}',\n",
       " 'languages_url': 'https://api.github.com/repos/dagolinuxoid/soundcloud_gopro/languages',\n",
       " 'stargazers_url': 'https://api.github.com/repos/dagolinuxoid/soundcloud_gopro/stargazers',\n",
       " 'contributors_url': 'https://api.github.com/repos/dagolinuxoid/soundcloud_gopro/contributors',\n",
       " 'subscribers_url': 'https://api.github.com/repos/dagolinuxoid/soundcloud_gopro/subscribers',\n",
       " 'subscription_url': 'https://api.github.com/repos/dagolinuxoid/soundcloud_gopro/subscription',\n",
       " 'commits_url': 'https://api.github.com/repos/dagolinuxoid/soundcloud_gopro/commits{/sha}',\n",
       " 'git_commits_url': 'https://api.github.com/repos/dagolinuxoid/soundcloud_gopro/git/commits{/sha}',\n",
       " 'comments_url': 'https://api.github.com/repos/dagolinuxoid/soundcloud_gopro/comments{/number}',\n",
       " 'issue_comment_url': 'https://api.github.com/repos/dagolinuxoid/soundcloud_gopro/issues/comments{/number}',\n",
       " 'contents_url': 'https://api.github.com/repos/dagolinuxoid/soundcloud_gopro/contents/{+path}',\n",
       " 'compare_url': 'https://api.github.com/repos/dagolinuxoid/soundcloud_gopro/compare/{base}...{head}',\n",
       " 'merges_url': 'https://api.github.com/repos/dagolinuxoid/soundcloud_gopro/merges',\n",
       " 'archive_url': 'https://api.github.com/repos/dagolinuxoid/soundcloud_gopro/{archive_format}{/ref}',\n",
       " 'downloads_url': 'https://api.github.com/repos/dagolinuxoid/soundcloud_gopro/downloads',\n",
       " 'issues_url': 'https://api.github.com/repos/dagolinuxoid/soundcloud_gopro/issues{/number}',\n",
       " 'pulls_url': 'https://api.github.com/repos/dagolinuxoid/soundcloud_gopro/pulls{/number}',\n",
       " 'milestones_url': 'https://api.github.com/repos/dagolinuxoid/soundcloud_gopro/milestones{/number}',\n",
       " 'notifications_url': 'https://api.github.com/repos/dagolinuxoid/soundcloud_gopro/notifications{?since,all,participating}',\n",
       " 'labels_url': 'https://api.github.com/repos/dagolinuxoid/soundcloud_gopro/labels{/name}',\n",
       " 'releases_url': 'https://api.github.com/repos/dagolinuxoid/soundcloud_gopro/releases{/id}',\n",
       " 'deployments_url': 'https://api.github.com/repos/dagolinuxoid/soundcloud_gopro/deployments',\n",
       " 'created_at': '2017-09-13T18:59:56Z',\n",
       " 'updated_at': '2017-09-14T10:15:52Z',\n",
       " 'pushed_at': '2017-09-14T10:24:17Z',\n",
       " 'git_url': 'git://github.com/dagolinuxoid/soundcloud_gopro.git',\n",
       " 'ssh_url': 'git@github.com:dagolinuxoid/soundcloud_gopro.git',\n",
       " 'clone_url': 'https://github.com/dagolinuxoid/soundcloud_gopro.git',\n",
       " 'svn_url': 'https://github.com/dagolinuxoid/soundcloud_gopro',\n",
       " 'homepage': None,\n",
       " 'size': 1,\n",
       " 'stargazers_count': 0,\n",
       " 'watchers_count': 0,\n",
       " 'language': 'CSS',\n",
       " 'has_issues': True,\n",
       " 'has_projects': True,\n",
       " 'has_downloads': True,\n",
       " 'has_wiki': True,\n",
       " 'has_pages': False,\n",
       " 'forks_count': 0,\n",
       " 'mirror_url': None,\n",
       " 'archived': False,\n",
       " 'disabled': False,\n",
       " 'open_issues_count': 0,\n",
       " 'license': None,\n",
       " 'forks': 0,\n",
       " 'open_issues': 0,\n",
       " 'watchers': 0,\n",
       " 'default_branch': 'master',\n",
       " 'score': 1.0}"
      ]
     },
     "execution_count": 8,
     "metadata": {},
     "output_type": "execute_result"
    }
   ],
   "source": [
    "res['items'][2]"
   ]
  },
  {
   "cell_type": "code",
   "execution_count": 9,
   "id": "42089343",
   "metadata": {},
   "outputs": [
    {
     "data": {
      "text/plain": [
       "'html css'"
      ]
     },
     "execution_count": 9,
     "metadata": {},
     "output_type": "execute_result"
    }
   ],
   "source": [
    "res['items'][2]['description']"
   ]
  },
  {
   "cell_type": "code",
   "execution_count": 10,
   "id": "546bec42",
   "metadata": {},
   "outputs": [
    {
     "data": {
      "text/plain": [
       "5"
      ]
     },
     "execution_count": 10,
     "metadata": {},
     "output_type": "execute_result"
    }
   ],
   "source": [
    "len(res['items'])\n"
   ]
  },
  {
   "cell_type": "code",
   "execution_count": 11,
   "id": "d36d8f5b",
   "metadata": {},
   "outputs": [],
   "source": [
    "stop_words = set(stopwords.words('english'))\n",
    "def text_cleanup(s):\n",
    "    # if not a string object, disregard\n",
    "    if not isinstance(s, str):\n",
    "        return ''\n",
    "    \n",
    "    s_unesc = html.unescape(re.sub(r\"http\\S+\", \"\", re.sub('\\n+', ' ', s)))\n",
    "    s_noemoji = s_unesc.encode('ascii', 'ignore').decode('ascii')\n",
    "    # normalize to lowercase and tokenize\n",
    "    wt = word_tokenize(s_noemoji.lower())\n",
    "    \n",
    "    # filter word-tokens\n",
    "    wt_filt = [w for w in wt if (w not in stop_words) and (w not in string.punctuation) and w.isalnum()]\n",
    "    \n",
    "    # return clean string\n",
    "    return ' '.join(wt_filt)"
   ]
  },
  {
   "cell_type": "code",
   "execution_count": 12,
   "id": "0e1c68a3",
   "metadata": {},
   "outputs": [
    {
     "data": {
      "text/plain": [
       "'html css'"
      ]
     },
     "execution_count": 12,
     "metadata": {},
     "output_type": "execute_result"
    }
   ],
   "source": [
    "text_cleanup(res['items'][2]['description'])"
   ]
  },
  {
   "cell_type": "code",
   "execution_count": 13,
   "id": "96a243c9",
   "metadata": {},
   "outputs": [],
   "source": [
    "descr = [text_cleanup(r['description']) for r in res['items']]"
   ]
  },
  {
   "cell_type": "code",
   "execution_count": 14,
   "id": "adf9498c",
   "metadata": {},
   "outputs": [],
   "source": [
    "bigram_measures = nltk.collocations.BigramAssocMeasures()\n",
    "bigram_finder = BigramCollocationFinder.from_documents([d.split() for d in descr])"
   ]
  },
  {
   "cell_type": "code",
   "execution_count": 15,
   "id": "632bddca",
   "metadata": {},
   "outputs": [],
   "source": [
    "bigram_finder.apply_freq_filter(3)"
   ]
  },
  {
   "cell_type": "code",
   "execution_count": 16,
   "id": "ff7b4c2f",
   "metadata": {},
   "outputs": [
    {
     "data": {
      "text/plain": [
       "[(('soundcloud', 'go'), 3)]"
      ]
     },
     "execution_count": 16,
     "metadata": {},
     "output_type": "execute_result"
    }
   ],
   "source": [
    "bigram_freq = list(bigram_finder.ngram_fd.items())\n",
    "bigram_freq"
   ]
  },
  {
   "cell_type": "code",
   "execution_count": 17,
   "id": "8a4e8738",
   "metadata": {},
   "outputs": [
    {
     "data": {
      "text/html": [
       "<div>\n",
       "<style scoped>\n",
       "    .dataframe tbody tr th:only-of-type {\n",
       "        vertical-align: middle;\n",
       "    }\n",
       "\n",
       "    .dataframe tbody tr th {\n",
       "        vertical-align: top;\n",
       "    }\n",
       "\n",
       "    .dataframe thead th {\n",
       "        text-align: right;\n",
       "    }\n",
       "</style>\n",
       "<table border=\"1\" class=\"dataframe\">\n",
       "  <thead>\n",
       "    <tr style=\"text-align: right;\">\n",
       "      <th></th>\n",
       "      <th>count</th>\n",
       "    </tr>\n",
       "    <tr>\n",
       "      <th>keyphrase</th>\n",
       "      <th></th>\n",
       "    </tr>\n",
       "  </thead>\n",
       "  <tbody>\n",
       "    <tr>\n",
       "      <th>soundcloud go</th>\n",
       "      <td>3</td>\n",
       "    </tr>\n",
       "  </tbody>\n",
       "</table>\n",
       "</div>"
      ],
      "text/plain": [
       "               count\n",
       "keyphrase           \n",
       "soundcloud go      3"
      ]
     },
     "execution_count": 17,
     "metadata": {},
     "output_type": "execute_result"
    }
   ],
   "source": [
    "df_freq = pd.DataFrame([(' '.join(k), v) for k,v in bigram_freq], columns=['keyphrase', 'count'])\n",
    "df_freq.sort_values(by='count', ascending=False, inplace=True)\n",
    "df_freq.set_index('keyphrase', inplace = True)\n",
    "df_freq"
   ]
  },
  {
   "cell_type": "code",
   "execution_count": 18,
   "id": "2501812f",
   "metadata": {},
   "outputs": [
    {
     "data": {
      "image/png": "[encoded data removed]",
      "text/plain": [
       "<Figure size 432x288 with 1 Axes>"
      ]
     },
     "metadata": {},
     "output_type": "display_data"
    }
   ],
   "source": [
    "plt.style.use('ggplot')\n",
    "\n",
    "# render a horizontal bar graph\n",
    "df_freq.head(20).sort_values(by='count').plot(kind = 'barh')\n",
    "plt.title('Trending keyphrases')\n",
    "plt.ylabel('phrase')\n",
    "plt.xlabel('count')\n",
    "plt.legend().set_visible(False)\n",
    "plt.show()"
   ]
  },
  {
   "cell_type": "code",
   "execution_count": null,
   "id": "ab5285c5",
   "metadata": {},
   "outputs": [],
   "source": []
  }
 ],
 "metadata": {
  "kernelspec": {
   "display_name": "Python 3",
   "language": "python",
   "name": "python3"
  },
  "language_info": {
   "codemirror_mode": {
    "name": "ipython",
    "version": 3
   },
   "file_extension": ".py",
   "mimetype": "text/x-python",
   "name": "python",
   "nbconvert_exporter": "python",
   "pygments_lexer": "ipython3",
   "version": "3.7.10"
  }
 },
 "nbformat": 4,
 "nbformat_minor": 5
}
