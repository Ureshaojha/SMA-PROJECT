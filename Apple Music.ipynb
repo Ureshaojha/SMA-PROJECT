{
 "cells": [
  {
   "cell_type": "code",
   "execution_count": 1,
   "id": "7b77dd30",
   "metadata": {},
   "outputs": [],
   "source": [
    "import requests\n",
    "import html\n",
    "import string\n",
    "import re\n",
    "import nltk\n",
    "from nltk import word_tokenize\n",
    "from nltk.corpus import stopwords\n",
    "from nltk.collocations import *\n",
    "import pandas as pd\n",
    "import matplotlib.pyplot as plt"
   ]
  },
  {
   "cell_type": "code",
   "execution_count": 2,
   "id": "924baf99",
   "metadata": {},
   "outputs": [],
   "source": [
    "github_url = 'https://api.github.com/search/repositories'"
   ]
  },
  {
   "cell_type": "code",
   "execution_count": 3,
   "id": "9eee2c39",
   "metadata": {},
   "outputs": [],
   "source": [
    "q = '\"Apple music\"'"
   ]
  },
  {
   "cell_type": "code",
   "execution_count": 4,
   "id": "705aba6b",
   "metadata": {},
   "outputs": [],
   "source": [
    "qparams = {'q' : q, 'sort' : 'stars', 'order': 'desc', 'per_page' : 100}"
   ]
  },
  {
   "cell_type": "code",
   "execution_count": 5,
   "id": "41072a03",
   "metadata": {},
   "outputs": [
    {
     "data": {
      "text/plain": [
       "<Response [200]>"
      ]
     },
     "execution_count": 5,
     "metadata": {},
     "output_type": "execute_result"
    }
   ],
   "source": [
    "r = requests.get(url=github_url, params=qparams)\n",
    "r"
   ]
  },
  {
   "cell_type": "code",
   "execution_count": 6,
   "id": "37d81f3e",
   "metadata": {},
   "outputs": [
    {
     "data": {
      "text/plain": [
       "dict_keys(['total_count', 'incomplete_results', 'items'])"
      ]
     },
     "execution_count": 6,
     "metadata": {},
     "output_type": "execute_result"
    }
   ],
   "source": [
    "res = r.json()\n",
    "res.keys()"
   ]
  },
  {
   "cell_type": "code",
   "execution_count": 7,
   "id": "a75d0673",
   "metadata": {},
   "outputs": [
    {
     "data": {
      "text/plain": [
       "100"
      ]
     },
     "execution_count": 7,
     "metadata": {},
     "output_type": "execute_result"
    }
   ],
   "source": [
    "len(res['items'])"
   ]
  },
  {
   "cell_type": "code",
   "execution_count": 8,
   "id": "7fee7c3e",
   "metadata": {},
   "outputs": [
    {
     "data": {
      "text/plain": [
       "{'id': 159327622,\n",
       " 'node_id': 'MDEwOlJlcG9zaXRvcnkxNTkzMjc2MjI=',\n",
       " 'name': 'SPStorkController',\n",
       " 'full_name': 'ivanvorobei/SPStorkController',\n",
       " 'private': False,\n",
       " 'owner': {'login': 'ivanvorobei',\n",
       "  'id': 10995774,\n",
       "  'node_id': 'MDQ6VXNlcjEwOTk1Nzc0',\n",
       "  'avatar_url': 'https://avatars.githubusercontent.com/u/10995774?v=4',\n",
       "  'gravatar_id': '',\n",
       "  'url': 'https://api.github.com/users/ivanvorobei',\n",
       "  'html_url': 'https://github.com/ivanvorobei',\n",
       "  'followers_url': 'https://api.github.com/users/ivanvorobei/followers',\n",
       "  'following_url': 'https://api.github.com/users/ivanvorobei/following{/other_user}',\n",
       "  'gists_url': 'https://api.github.com/users/ivanvorobei/gists{/gist_id}',\n",
       "  'starred_url': 'https://api.github.com/users/ivanvorobei/starred{/owner}{/repo}',\n",
       "  'subscriptions_url': 'https://api.github.com/users/ivanvorobei/subscriptions',\n",
       "  'organizations_url': 'https://api.github.com/users/ivanvorobei/orgs',\n",
       "  'repos_url': 'https://api.github.com/users/ivanvorobei/repos',\n",
       "  'events_url': 'https://api.github.com/users/ivanvorobei/events{/privacy}',\n",
       "  'received_events_url': 'https://api.github.com/users/ivanvorobei/received_events',\n",
       "  'type': 'User',\n",
       "  'site_admin': False},\n",
       " 'html_url': 'https://github.com/ivanvorobei/SPStorkController',\n",
       " 'description': \"Now playing controller from Apple Music, Mail & Podcasts Apple's apps.\",\n",
       " 'fork': False,\n",
       " 'url': 'https://api.github.com/repos/ivanvorobei/SPStorkController',\n",
       " 'forks_url': 'https://api.github.com/repos/ivanvorobei/SPStorkController/forks',\n",
       " 'keys_url': 'https://api.github.com/repos/ivanvorobei/SPStorkController/keys{/key_id}',\n",
       " 'collaborators_url': 'https://api.github.com/repos/ivanvorobei/SPStorkController/collaborators{/collaborator}',\n",
       " 'teams_url': 'https://api.github.com/repos/ivanvorobei/SPStorkController/teams',\n",
       " 'hooks_url': 'https://api.github.com/repos/ivanvorobei/SPStorkController/hooks',\n",
       " 'issue_events_url': 'https://api.github.com/repos/ivanvorobei/SPStorkController/issues/events{/number}',\n",
       " 'events_url': 'https://api.github.com/repos/ivanvorobei/SPStorkController/events',\n",
       " 'assignees_url': 'https://api.github.com/repos/ivanvorobei/SPStorkController/assignees{/user}',\n",
       " 'branches_url': 'https://api.github.com/repos/ivanvorobei/SPStorkController/branches{/branch}',\n",
       " 'tags_url': 'https://api.github.com/repos/ivanvorobei/SPStorkController/tags',\n",
       " 'blobs_url': 'https://api.github.com/repos/ivanvorobei/SPStorkController/git/blobs{/sha}',\n",
       " 'git_tags_url': 'https://api.github.com/repos/ivanvorobei/SPStorkController/git/tags{/sha}',\n",
       " 'git_refs_url': 'https://api.github.com/repos/ivanvorobei/SPStorkController/git/refs{/sha}',\n",
       " 'trees_url': 'https://api.github.com/repos/ivanvorobei/SPStorkController/git/trees{/sha}',\n",
       " 'statuses_url': 'https://api.github.com/repos/ivanvorobei/SPStorkController/statuses/{sha}',\n",
       " 'languages_url': 'https://api.github.com/repos/ivanvorobei/SPStorkController/languages',\n",
       " 'stargazers_url': 'https://api.github.com/repos/ivanvorobei/SPStorkController/stargazers',\n",
       " 'contributors_url': 'https://api.github.com/repos/ivanvorobei/SPStorkController/contributors',\n",
       " 'subscribers_url': 'https://api.github.com/repos/ivanvorobei/SPStorkController/subscribers',\n",
       " 'subscription_url': 'https://api.github.com/repos/ivanvorobei/SPStorkController/subscription',\n",
       " 'commits_url': 'https://api.github.com/repos/ivanvorobei/SPStorkController/commits{/sha}',\n",
       " 'git_commits_url': 'https://api.github.com/repos/ivanvorobei/SPStorkController/git/commits{/sha}',\n",
       " 'comments_url': 'https://api.github.com/repos/ivanvorobei/SPStorkController/comments{/number}',\n",
       " 'issue_comment_url': 'https://api.github.com/repos/ivanvorobei/SPStorkController/issues/comments{/number}',\n",
       " 'contents_url': 'https://api.github.com/repos/ivanvorobei/SPStorkController/contents/{+path}',\n",
       " 'compare_url': 'https://api.github.com/repos/ivanvorobei/SPStorkController/compare/{base}...{head}',\n",
       " 'merges_url': 'https://api.github.com/repos/ivanvorobei/SPStorkController/merges',\n",
       " 'archive_url': 'https://api.github.com/repos/ivanvorobei/SPStorkController/{archive_format}{/ref}',\n",
       " 'downloads_url': 'https://api.github.com/repos/ivanvorobei/SPStorkController/downloads',\n",
       " 'issues_url': 'https://api.github.com/repos/ivanvorobei/SPStorkController/issues{/number}',\n",
       " 'pulls_url': 'https://api.github.com/repos/ivanvorobei/SPStorkController/pulls{/number}',\n",
       " 'milestones_url': 'https://api.github.com/repos/ivanvorobei/SPStorkController/milestones{/number}',\n",
       " 'notifications_url': 'https://api.github.com/repos/ivanvorobei/SPStorkController/notifications{?since,all,participating}',\n",
       " 'labels_url': 'https://api.github.com/repos/ivanvorobei/SPStorkController/labels{/name}',\n",
       " 'releases_url': 'https://api.github.com/repos/ivanvorobei/SPStorkController/releases{/id}',\n",
       " 'deployments_url': 'https://api.github.com/repos/ivanvorobei/SPStorkController/deployments',\n",
       " 'created_at': '2018-11-27T11:51:50Z',\n",
       " 'updated_at': '2021-07-25T15:47:18Z',\n",
       " 'pushed_at': '2021-07-13T13:50:57Z',\n",
       " 'git_url': 'git://github.com/ivanvorobei/SPStorkController.git',\n",
       " 'ssh_url': 'git@github.com:ivanvorobei/SPStorkController.git',\n",
       " 'clone_url': 'https://github.com/ivanvorobei/SPStorkController.git',\n",
       " 'svn_url': 'https://github.com/ivanvorobei/SPStorkController',\n",
       " 'homepage': 'https://opensource.ivanvorobei.by',\n",
       " 'size': 18382,\n",
       " 'stargazers_count': 2451,\n",
       " 'watchers_count': 2451,\n",
       " 'language': 'Swift',\n",
       " 'has_issues': True,\n",
       " 'has_projects': False,\n",
       " 'has_downloads': True,\n",
       " 'has_wiki': False,\n",
       " 'has_pages': False,\n",
       " 'forks_count': 191,\n",
       " 'mirror_url': None,\n",
       " 'archived': False,\n",
       " 'disabled': False,\n",
       " 'open_issues_count': 16,\n",
       " 'license': {'key': 'mit',\n",
       "  'name': 'MIT License',\n",
       "  'spdx_id': 'MIT',\n",
       "  'url': 'https://api.github.com/licenses/mit',\n",
       "  'node_id': 'MDc6TGljZW5zZTEz'},\n",
       " 'forks': 191,\n",
       " 'open_issues': 16,\n",
       " 'watchers': 2451,\n",
       " 'default_branch': 'master',\n",
       " 'score': 1.0}"
      ]
     },
     "execution_count": 8,
     "metadata": {},
     "output_type": "execute_result"
    }
   ],
   "source": [
    "res['items'][2]"
   ]
  },
  {
   "cell_type": "code",
   "execution_count": 9,
   "id": "2e67bd04",
   "metadata": {},
   "outputs": [
    {
     "data": {
      "text/plain": [
       "\"Now playing controller from Apple Music, Mail & Podcasts Apple's apps.\""
      ]
     },
     "execution_count": 9,
     "metadata": {},
     "output_type": "execute_result"
    }
   ],
   "source": [
    "res['items'][2]['description']"
   ]
  },
  {
   "cell_type": "code",
   "execution_count": 10,
   "id": "0fa5dca4",
   "metadata": {},
   "outputs": [
    {
     "data": {
      "text/plain": [
       "\"Now playing controller from Apple Music, Mail & Podcasts Apple's apps.\""
      ]
     },
     "execution_count": 10,
     "metadata": {},
     "output_type": "execute_result"
    }
   ],
   "source": [
    "res['items'][2]['description']"
   ]
  },
  {
   "cell_type": "code",
   "execution_count": 11,
   "id": "756498cf",
   "metadata": {},
   "outputs": [
    {
     "data": {
      "text/plain": [
       "100"
      ]
     },
     "execution_count": 11,
     "metadata": {},
     "output_type": "execute_result"
    }
   ],
   "source": [
    "len(res['items'])"
   ]
  },
  {
   "cell_type": "code",
   "execution_count": 12,
   "id": "9aa67ce3",
   "metadata": {},
   "outputs": [],
   "source": [
    "stop_words = set(stopwords.words('english'))\n",
    "def text_cleanup(s):\n",
    "    # if not a string object, disregard\n",
    "    if not isinstance(s, str):\n",
    "        return ''\n",
    "    \n",
    "    s_unesc = html.unescape(re.sub(r\"http\\S+\", \"\", re.sub('\\n+', ' ', s)))\n",
    "    s_noemoji = s_unesc.encode('ascii', 'ignore').decode('ascii')\n",
    "    # normalize to lowercase and tokenize\n",
    "    wt = word_tokenize(s_noemoji.lower())\n",
    "    \n",
    "    # filter word-tokens\n",
    "    wt_filt = [w for w in wt if (w not in stop_words) and (w not in string.punctuation) and w.isalnum()]\n",
    "    \n",
    "    # return clean string\n",
    "    return ' '.join(wt_filt)"
   ]
  },
  {
   "cell_type": "code",
   "execution_count": 13,
   "id": "383b006d",
   "metadata": {},
   "outputs": [
    {
     "data": {
      "text/plain": [
       "'playing controller apple music mail podcasts apple apps'"
      ]
     },
     "execution_count": 13,
     "metadata": {},
     "output_type": "execute_result"
    }
   ],
   "source": [
    "text_cleanup(res['items'][2]['description'])"
   ]
  },
  {
   "cell_type": "code",
   "execution_count": 14,
   "id": "6ce5d326",
   "metadata": {},
   "outputs": [],
   "source": [
    "descr = [text_cleanup(r['description']) for r in res['items']]"
   ]
  },
  {
   "cell_type": "code",
   "execution_count": 15,
   "id": "2e63695a",
   "metadata": {},
   "outputs": [],
   "source": [
    "bigram_measures = nltk.collocations.BigramAssocMeasures()\n",
    "bigram_finder = BigramCollocationFinder.from_documents([d.split() for d in descr])"
   ]
  },
  {
   "cell_type": "code",
   "execution_count": 16,
   "id": "7b72d217",
   "metadata": {},
   "outputs": [],
   "source": [
    "bigram_finder.apply_freq_filter(3)"
   ]
  },
  {
   "cell_type": "code",
   "execution_count": 17,
   "id": "174eaa12",
   "metadata": {},
   "outputs": [
    {
     "data": {
      "text/plain": [
       "[(('view', 'controllers'), 3),\n",
       " (('like', 'apple'), 4),\n",
       " (('apple', 'music'), 89),\n",
       " (('music', 'spotify'), 4),\n",
       " (('web', 'player'), 5),\n",
       " (('player', 'apple'), 3),\n",
       " (('music', 'genre'), 3),\n",
       " (('itunes', 'apple'), 3),\n",
       " (('import', 'spotify'), 3),\n",
       " (('music', 'player'), 3),\n",
       " (('spotify', 'apple'), 6),\n",
       " (('spotify', 'playlists'), 4),\n",
       " (('similar', 'apple'), 3),\n",
       " (('music', 'apple'), 3),\n",
       " (('react', 'native'), 3),\n",
       " (('music', 'itunes'), 3),\n",
       " (('music', 'api'), 12),\n",
       " (('music', 'app'), 4),\n",
       " (('wrapper', 'apple'), 5),\n",
       " (('playlists', 'apple'), 3)]"
      ]
     },
     "execution_count": 17,
     "metadata": {},
     "output_type": "execute_result"
    }
   ],
   "source": [
    "bigram_freq = list(bigram_finder.ngram_fd.items())\n",
    "bigram_freq"
   ]
  },
  {
   "cell_type": "code",
   "execution_count": 18,
   "id": "9b94724c",
   "metadata": {},
   "outputs": [
    {
     "data": {
      "text/html": [
       "<div>\n",
       "<style scoped>\n",
       "    .dataframe tbody tr th:only-of-type {\n",
       "        vertical-align: middle;\n",
       "    }\n",
       "\n",
       "    .dataframe tbody tr th {\n",
       "        vertical-align: top;\n",
       "    }\n",
       "\n",
       "    .dataframe thead th {\n",
       "        text-align: right;\n",
       "    }\n",
       "</style>\n",
       "<table border=\"1\" class=\"dataframe\">\n",
       "  <thead>\n",
       "    <tr style=\"text-align: right;\">\n",
       "      <th></th>\n",
       "      <th>count</th>\n",
       "    </tr>\n",
       "    <tr>\n",
       "      <th>keyphrase</th>\n",
       "      <th></th>\n",
       "    </tr>\n",
       "  </thead>\n",
       "  <tbody>\n",
       "    <tr>\n",
       "      <th>apple music</th>\n",
       "      <td>89</td>\n",
       "    </tr>\n",
       "    <tr>\n",
       "      <th>music api</th>\n",
       "      <td>12</td>\n",
       "    </tr>\n",
       "    <tr>\n",
       "      <th>spotify apple</th>\n",
       "      <td>6</td>\n",
       "    </tr>\n",
       "    <tr>\n",
       "      <th>web player</th>\n",
       "      <td>5</td>\n",
       "    </tr>\n",
       "    <tr>\n",
       "      <th>wrapper apple</th>\n",
       "      <td>5</td>\n",
       "    </tr>\n",
       "    <tr>\n",
       "      <th>music spotify</th>\n",
       "      <td>4</td>\n",
       "    </tr>\n",
       "    <tr>\n",
       "      <th>music app</th>\n",
       "      <td>4</td>\n",
       "    </tr>\n",
       "    <tr>\n",
       "      <th>like apple</th>\n",
       "      <td>4</td>\n",
       "    </tr>\n",
       "    <tr>\n",
       "      <th>spotify playlists</th>\n",
       "      <td>4</td>\n",
       "    </tr>\n",
       "    <tr>\n",
       "      <th>music apple</th>\n",
       "      <td>3</td>\n",
       "    </tr>\n",
       "    <tr>\n",
       "      <th>music itunes</th>\n",
       "      <td>3</td>\n",
       "    </tr>\n",
       "    <tr>\n",
       "      <th>react native</th>\n",
       "      <td>3</td>\n",
       "    </tr>\n",
       "    <tr>\n",
       "      <th>view controllers</th>\n",
       "      <td>3</td>\n",
       "    </tr>\n",
       "    <tr>\n",
       "      <th>similar apple</th>\n",
       "      <td>3</td>\n",
       "    </tr>\n",
       "    <tr>\n",
       "      <th>music player</th>\n",
       "      <td>3</td>\n",
       "    </tr>\n",
       "    <tr>\n",
       "      <th>import spotify</th>\n",
       "      <td>3</td>\n",
       "    </tr>\n",
       "    <tr>\n",
       "      <th>itunes apple</th>\n",
       "      <td>3</td>\n",
       "    </tr>\n",
       "    <tr>\n",
       "      <th>music genre</th>\n",
       "      <td>3</td>\n",
       "    </tr>\n",
       "    <tr>\n",
       "      <th>player apple</th>\n",
       "      <td>3</td>\n",
       "    </tr>\n",
       "    <tr>\n",
       "      <th>playlists apple</th>\n",
       "      <td>3</td>\n",
       "    </tr>\n",
       "  </tbody>\n",
       "</table>\n",
       "</div>"
      ],
      "text/plain": [
       "                   count\n",
       "keyphrase               \n",
       "apple music           89\n",
       "music api             12\n",
       "spotify apple          6\n",
       "web player             5\n",
       "wrapper apple          5\n",
       "music spotify          4\n",
       "music app              4\n",
       "like apple             4\n",
       "spotify playlists      4\n",
       "music apple            3\n",
       "music itunes           3\n",
       "react native           3\n",
       "view controllers       3\n",
       "similar apple          3\n",
       "music player           3\n",
       "import spotify         3\n",
       "itunes apple           3\n",
       "music genre            3\n",
       "player apple           3\n",
       "playlists apple        3"
      ]
     },
     "execution_count": 18,
     "metadata": {},
     "output_type": "execute_result"
    }
   ],
   "source": [
    "df_freq = pd.DataFrame([(' '.join(k), v) for k,v in bigram_freq], columns=['keyphrase', 'count'])\n",
    "df_freq.sort_values(by='count', ascending=False, inplace=True)\n",
    "df_freq.set_index('keyphrase', inplace = True)\n",
    "df_freq"
   ]
  },
  {
   "cell_type": "code",
   "execution_count": 19,
   "id": "b4d350b3",
   "metadata": {},
   "outputs": [
    {
     "data": {
      "image/png": "[encoded data removed]",
      "text/plain": [
       "<Figure size 432x288 with 1 Axes>"
      ]
     },
     "metadata": {},
     "output_type": "display_data"
    }
   ],
   "source": [
    "plt.style.use('ggplot')\n",
    "\n",
    "# render a horizontal bar graph\n",
    "df_freq.head(20).sort_values(by='count').plot(kind = 'barh')\n",
    "plt.title('Trending keyphrases')\n",
    "plt.ylabel('phrase')\n",
    "plt.xlabel('count')\n",
    "plt.legend().set_visible(False)\n",
    "plt.show()"
   ]
  },
  {
   "cell_type": "code",
   "execution_count": null,
   "id": "b03178ed",
   "metadata": {},
   "outputs": [],
   "source": []
  }
 ],
 "metadata": {
  "kernelspec": {
   "display_name": "Python 3",
   "language": "python",
   "name": "python3"
  },
  "language_info": {
   "codemirror_mode": {
    "name": "ipython",
    "version": 3
   },
   "file_extension": ".py",
   "mimetype": "text/x-python",
   "name": "python",
   "nbconvert_exporter": "python",
   "pygments_lexer": "ipython3",
   "version": "3.7.10"
  }
 },
 "nbformat": 4,
 "nbformat_minor": 5
}
