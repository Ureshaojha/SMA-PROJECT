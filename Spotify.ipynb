{
 "cells": [
  {
   "cell_type": "code",
   "execution_count": 1,
   "id": "f2ef0034",
   "metadata": {},
   "outputs": [],
   "source": [
    "import requests\n",
    "import html\n",
    "import string\n",
    "import re\n",
    "import nltk\n",
    "from nltk import word_tokenize\n",
    "from nltk.corpus import stopwords\n",
    "from nltk.collocations import *\n",
    "import pandas as pd\n",
    "import matplotlib.pyplot as plt"
   ]
  },
  {
   "cell_type": "code",
   "execution_count": 2,
   "id": "4afa4a00",
   "metadata": {},
   "outputs": [],
   "source": [
    "github_url = 'https://api.github.com/search/repositories'"
   ]
  },
  {
   "cell_type": "code",
   "execution_count": 3,
   "id": "0c7af088",
   "metadata": {},
   "outputs": [],
   "source": [
    "q = '\"Spotify music\"'"
   ]
  },
  {
   "cell_type": "code",
   "execution_count": 4,
   "id": "4a0b9fc4",
   "metadata": {},
   "outputs": [],
   "source": [
    "qparams = {'q' : q, 'sort' : 'stars', 'order': 'desc', 'per_page' : 100}"
   ]
  },
  {
   "cell_type": "code",
   "execution_count": 5,
   "id": "d04a9827",
   "metadata": {},
   "outputs": [
    {
     "data": {
      "text/plain": [
       "<Response [200]>"
      ]
     },
     "execution_count": 5,
     "metadata": {},
     "output_type": "execute_result"
    }
   ],
   "source": [
    "r = requests.get(url=github_url, params=qparams)\n",
    "r"
   ]
  },
  {
   "cell_type": "code",
   "execution_count": 6,
   "id": "98262daf",
   "metadata": {},
   "outputs": [
    {
     "data": {
      "text/plain": [
       "dict_keys(['total_count', 'incomplete_results', 'items'])"
      ]
     },
     "execution_count": 6,
     "metadata": {},
     "output_type": "execute_result"
    }
   ],
   "source": [
    "res = r.json()\n",
    "res.keys()"
   ]
  },
  {
   "cell_type": "code",
   "execution_count": 7,
   "id": "9ba3072d",
   "metadata": {},
   "outputs": [
    {
     "data": {
      "text/plain": [
       "100"
      ]
     },
     "execution_count": 7,
     "metadata": {},
     "output_type": "execute_result"
    }
   ],
   "source": [
    "len(res['items'])"
   ]
  },
  {
   "cell_type": "code",
   "execution_count": 8,
   "id": "187e1913",
   "metadata": {},
   "outputs": [
    {
     "data": {
      "text/plain": [
       "{'id': 27866137,\n",
       " 'node_id': 'MDEwOlJlcG9zaXRvcnkyNzg2NjEzNw==',\n",
       " 'name': 'soundbounce',\n",
       " 'full_name': 'pdaddyo/soundbounce',\n",
       " 'private': False,\n",
       " 'owner': {'login': 'pdaddyo',\n",
       "  'id': 7074964,\n",
       "  'node_id': 'MDQ6VXNlcjcwNzQ5NjQ=',\n",
       "  'avatar_url': 'https://avatars.githubusercontent.com/u/7074964?v=4',\n",
       "  'gravatar_id': '',\n",
       "  'url': 'https://api.github.com/users/pdaddyo',\n",
       "  'html_url': 'https://github.com/pdaddyo',\n",
       "  'followers_url': 'https://api.github.com/users/pdaddyo/followers',\n",
       "  'following_url': 'https://api.github.com/users/pdaddyo/following{/other_user}',\n",
       "  'gists_url': 'https://api.github.com/users/pdaddyo/gists{/gist_id}',\n",
       "  'starred_url': 'https://api.github.com/users/pdaddyo/starred{/owner}{/repo}',\n",
       "  'subscriptions_url': 'https://api.github.com/users/pdaddyo/subscriptions',\n",
       "  'organizations_url': 'https://api.github.com/users/pdaddyo/orgs',\n",
       "  'repos_url': 'https://api.github.com/users/pdaddyo/repos',\n",
       "  'events_url': 'https://api.github.com/users/pdaddyo/events{/privacy}',\n",
       "  'received_events_url': 'https://api.github.com/users/pdaddyo/received_events',\n",
       "  'type': 'User',\n",
       "  'site_admin': False},\n",
       " 'html_url': 'https://github.com/pdaddyo/soundbounce',\n",
       " 'description': 'Social listening for Spotify - music sounds better together.',\n",
       " 'fork': False,\n",
       " 'url': 'https://api.github.com/repos/pdaddyo/soundbounce',\n",
       " 'forks_url': 'https://api.github.com/repos/pdaddyo/soundbounce/forks',\n",
       " 'keys_url': 'https://api.github.com/repos/pdaddyo/soundbounce/keys{/key_id}',\n",
       " 'collaborators_url': 'https://api.github.com/repos/pdaddyo/soundbounce/collaborators{/collaborator}',\n",
       " 'teams_url': 'https://api.github.com/repos/pdaddyo/soundbounce/teams',\n",
       " 'hooks_url': 'https://api.github.com/repos/pdaddyo/soundbounce/hooks',\n",
       " 'issue_events_url': 'https://api.github.com/repos/pdaddyo/soundbounce/issues/events{/number}',\n",
       " 'events_url': 'https://api.github.com/repos/pdaddyo/soundbounce/events',\n",
       " 'assignees_url': 'https://api.github.com/repos/pdaddyo/soundbounce/assignees{/user}',\n",
       " 'branches_url': 'https://api.github.com/repos/pdaddyo/soundbounce/branches{/branch}',\n",
       " 'tags_url': 'https://api.github.com/repos/pdaddyo/soundbounce/tags',\n",
       " 'blobs_url': 'https://api.github.com/repos/pdaddyo/soundbounce/git/blobs{/sha}',\n",
       " 'git_tags_url': 'https://api.github.com/repos/pdaddyo/soundbounce/git/tags{/sha}',\n",
       " 'git_refs_url': 'https://api.github.com/repos/pdaddyo/soundbounce/git/refs{/sha}',\n",
       " 'trees_url': 'https://api.github.com/repos/pdaddyo/soundbounce/git/trees{/sha}',\n",
       " 'statuses_url': 'https://api.github.com/repos/pdaddyo/soundbounce/statuses/{sha}',\n",
       " 'languages_url': 'https://api.github.com/repos/pdaddyo/soundbounce/languages',\n",
       " 'stargazers_url': 'https://api.github.com/repos/pdaddyo/soundbounce/stargazers',\n",
       " 'contributors_url': 'https://api.github.com/repos/pdaddyo/soundbounce/contributors',\n",
       " 'subscribers_url': 'https://api.github.com/repos/pdaddyo/soundbounce/subscribers',\n",
       " 'subscription_url': 'https://api.github.com/repos/pdaddyo/soundbounce/subscription',\n",
       " 'commits_url': 'https://api.github.com/repos/pdaddyo/soundbounce/commits{/sha}',\n",
       " 'git_commits_url': 'https://api.github.com/repos/pdaddyo/soundbounce/git/commits{/sha}',\n",
       " 'comments_url': 'https://api.github.com/repos/pdaddyo/soundbounce/comments{/number}',\n",
       " 'issue_comment_url': 'https://api.github.com/repos/pdaddyo/soundbounce/issues/comments{/number}',\n",
       " 'contents_url': 'https://api.github.com/repos/pdaddyo/soundbounce/contents/{+path}',\n",
       " 'compare_url': 'https://api.github.com/repos/pdaddyo/soundbounce/compare/{base}...{head}',\n",
       " 'merges_url': 'https://api.github.com/repos/pdaddyo/soundbounce/merges',\n",
       " 'archive_url': 'https://api.github.com/repos/pdaddyo/soundbounce/{archive_format}{/ref}',\n",
       " 'downloads_url': 'https://api.github.com/repos/pdaddyo/soundbounce/downloads',\n",
       " 'issues_url': 'https://api.github.com/repos/pdaddyo/soundbounce/issues{/number}',\n",
       " 'pulls_url': 'https://api.github.com/repos/pdaddyo/soundbounce/pulls{/number}',\n",
       " 'milestones_url': 'https://api.github.com/repos/pdaddyo/soundbounce/milestones{/number}',\n",
       " 'notifications_url': 'https://api.github.com/repos/pdaddyo/soundbounce/notifications{?since,all,participating}',\n",
       " 'labels_url': 'https://api.github.com/repos/pdaddyo/soundbounce/labels{/name}',\n",
       " 'releases_url': 'https://api.github.com/repos/pdaddyo/soundbounce/releases{/id}',\n",
       " 'deployments_url': 'https://api.github.com/repos/pdaddyo/soundbounce/deployments',\n",
       " 'created_at': '2014-12-11T10:32:50Z',\n",
       " 'updated_at': '2021-07-14T14:33:06Z',\n",
       " 'pushed_at': '2018-01-20T22:14:02Z',\n",
       " 'git_url': 'git://github.com/pdaddyo/soundbounce.git',\n",
       " 'ssh_url': 'git@github.com:pdaddyo/soundbounce.git',\n",
       " 'clone_url': 'https://github.com/pdaddyo/soundbounce.git',\n",
       " 'svn_url': 'https://github.com/pdaddyo/soundbounce',\n",
       " 'homepage': None,\n",
       " 'size': 171052,\n",
       " 'stargazers_count': 249,\n",
       " 'watchers_count': 249,\n",
       " 'language': 'JavaScript',\n",
       " 'has_issues': True,\n",
       " 'has_projects': True,\n",
       " 'has_downloads': True,\n",
       " 'has_wiki': True,\n",
       " 'has_pages': False,\n",
       " 'forks_count': 30,\n",
       " 'mirror_url': None,\n",
       " 'archived': False,\n",
       " 'disabled': False,\n",
       " 'open_issues_count': 96,\n",
       " 'license': {'key': 'mit',\n",
       "  'name': 'MIT License',\n",
       "  'spdx_id': 'MIT',\n",
       "  'url': 'https://api.github.com/licenses/mit',\n",
       "  'node_id': 'MDc6TGljZW5zZTEz'},\n",
       " 'forks': 30,\n",
       " 'open_issues': 96,\n",
       " 'watchers': 249,\n",
       " 'default_branch': 'master',\n",
       " 'score': 1.0}"
      ]
     },
     "execution_count": 8,
     "metadata": {},
     "output_type": "execute_result"
    }
   ],
   "source": [
    "res['items'][2]"
   ]
  },
  {
   "cell_type": "code",
   "execution_count": 9,
   "id": "65fbd68d",
   "metadata": {},
   "outputs": [
    {
     "data": {
      "text/plain": [
       "'Social listening for Spotify - music sounds better together.'"
      ]
     },
     "execution_count": 9,
     "metadata": {},
     "output_type": "execute_result"
    }
   ],
   "source": [
    "res['items'][2]['description']"
   ]
  },
  {
   "cell_type": "code",
   "execution_count": 10,
   "id": "dad9c797",
   "metadata": {},
   "outputs": [
    {
     "data": {
      "text/plain": [
       "100"
      ]
     },
     "execution_count": 10,
     "metadata": {},
     "output_type": "execute_result"
    }
   ],
   "source": [
    "len(res['items'])"
   ]
  },
  {
   "cell_type": "code",
   "execution_count": 11,
   "id": "7781d8bf",
   "metadata": {},
   "outputs": [],
   "source": [
    "stop_words = set(stopwords.words('english'))\n",
    "def text_cleanup(s):\n",
    "    # if not a string object, disregard\n",
    "    if not isinstance(s, str):\n",
    "        return ''\n",
    "    \n",
    "    s_unesc = html.unescape(re.sub(r\"http\\S+\", \"\", re.sub('\\n+', ' ', s)))\n",
    "    s_noemoji = s_unesc.encode('ascii', 'ignore').decode('ascii')\n",
    "    # normalize to lowercase and tokenize\n",
    "    wt = word_tokenize(s_noemoji.lower())\n",
    "    \n",
    "    # filter word-tokens\n",
    "    wt_filt = [w for w in wt if (w not in stop_words) and (w not in string.punctuation) and w.isalnum()]\n",
    "    \n",
    "    # return clean string\n",
    "    return ' '.join(wt_filt)"
   ]
  },
  {
   "cell_type": "code",
   "execution_count": 12,
   "id": "25d2a3f8",
   "metadata": {},
   "outputs": [
    {
     "data": {
      "text/plain": [
       "'social listening spotify music sounds better together'"
      ]
     },
     "execution_count": 12,
     "metadata": {},
     "output_type": "execute_result"
    }
   ],
   "source": [
    "text_cleanup(res['items'][2]['description'])"
   ]
  },
  {
   "cell_type": "code",
   "execution_count": 13,
   "id": "276cb0cd",
   "metadata": {},
   "outputs": [],
   "source": [
    "descr = [text_cleanup(r['description']) for r in res['items']]"
   ]
  },
  {
   "cell_type": "code",
   "execution_count": 14,
   "id": "e2cc6f34",
   "metadata": {},
   "outputs": [],
   "source": [
    "bigram_measures = nltk.collocations.BigramAssocMeasures()\n",
    "bigram_finder = BigramCollocationFinder.from_documents([d.split() for d in descr])"
   ]
  },
  {
   "cell_type": "code",
   "execution_count": 15,
   "id": "6b6341bb",
   "metadata": {},
   "outputs": [],
   "source": [
    "bigram_finder.apply_freq_filter(3)"
   ]
  },
  {
   "cell_type": "code",
   "execution_count": 16,
   "id": "704c85bb",
   "metadata": {},
   "outputs": [
    {
     "data": {
      "text/plain": [
       "[(('spotify', 'music'), 72),\n",
       " (('music', 'downloader'), 4),\n",
       " (('spotify', 'api'), 3),\n",
       " (('play', 'spotify'), 3),\n",
       " (('based', 'spotify'), 3),\n",
       " (('music', 'data'), 4),\n",
       " (('music', 'player'), 4),\n",
       " (('audio', 'features'), 3),\n",
       " (('plays', 'spotify'), 3),\n",
       " (('music', 'visualizer'), 3),\n",
       " (('music', 'library'), 7)]"
      ]
     },
     "execution_count": 16,
     "metadata": {},
     "output_type": "execute_result"
    }
   ],
   "source": [
    "bigram_freq = list(bigram_finder.ngram_fd.items())\n",
    "bigram_freq"
   ]
  },
  {
   "cell_type": "code",
   "execution_count": 17,
   "id": "a2e505bd",
   "metadata": {},
   "outputs": [
    {
     "data": {
      "text/html": [
       "<div>\n",
       "<style scoped>\n",
       "    .dataframe tbody tr th:only-of-type {\n",
       "        vertical-align: middle;\n",
       "    }\n",
       "\n",
       "    .dataframe tbody tr th {\n",
       "        vertical-align: top;\n",
       "    }\n",
       "\n",
       "    .dataframe thead th {\n",
       "        text-align: right;\n",
       "    }\n",
       "</style>\n",
       "<table border=\"1\" class=\"dataframe\">\n",
       "  <thead>\n",
       "    <tr style=\"text-align: right;\">\n",
       "      <th></th>\n",
       "      <th>count</th>\n",
       "    </tr>\n",
       "    <tr>\n",
       "      <th>keyphrase</th>\n",
       "      <th></th>\n",
       "    </tr>\n",
       "  </thead>\n",
       "  <tbody>\n",
       "    <tr>\n",
       "      <th>spotify music</th>\n",
       "      <td>72</td>\n",
       "    </tr>\n",
       "    <tr>\n",
       "      <th>music library</th>\n",
       "      <td>7</td>\n",
       "    </tr>\n",
       "    <tr>\n",
       "      <th>music downloader</th>\n",
       "      <td>4</td>\n",
       "    </tr>\n",
       "    <tr>\n",
       "      <th>music data</th>\n",
       "      <td>4</td>\n",
       "    </tr>\n",
       "    <tr>\n",
       "      <th>music player</th>\n",
       "      <td>4</td>\n",
       "    </tr>\n",
       "    <tr>\n",
       "      <th>spotify api</th>\n",
       "      <td>3</td>\n",
       "    </tr>\n",
       "    <tr>\n",
       "      <th>play spotify</th>\n",
       "      <td>3</td>\n",
       "    </tr>\n",
       "    <tr>\n",
       "      <th>based spotify</th>\n",
       "      <td>3</td>\n",
       "    </tr>\n",
       "    <tr>\n",
       "      <th>audio features</th>\n",
       "      <td>3</td>\n",
       "    </tr>\n",
       "    <tr>\n",
       "      <th>plays spotify</th>\n",
       "      <td>3</td>\n",
       "    </tr>\n",
       "    <tr>\n",
       "      <th>music visualizer</th>\n",
       "      <td>3</td>\n",
       "    </tr>\n",
       "  </tbody>\n",
       "</table>\n",
       "</div>"
      ],
      "text/plain": [
       "                  count\n",
       "keyphrase              \n",
       "spotify music        72\n",
       "music library         7\n",
       "music downloader      4\n",
       "music data            4\n",
       "music player          4\n",
       "spotify api           3\n",
       "play spotify          3\n",
       "based spotify         3\n",
       "audio features        3\n",
       "plays spotify         3\n",
       "music visualizer      3"
      ]
     },
     "execution_count": 17,
     "metadata": {},
     "output_type": "execute_result"
    }
   ],
   "source": [
    "df_freq = pd.DataFrame([(' '.join(k), v) for k,v in bigram_freq], columns=['keyphrase', 'count'])\n",
    "df_freq.sort_values(by='count', ascending=False, inplace=True)\n",
    "df_freq.set_index('keyphrase', inplace = True)\n",
    "df_freq"
   ]
  },
  {
   "cell_type": "code",
   "execution_count": 18,
   "id": "7f6fa3b3",
   "metadata": {},
   "outputs": [
    {
     "data": {
      "image/png": "[encoded data removed]",
      "text/plain": [
       "<Figure size 432x288 with 1 Axes>"
      ]
     },
     "metadata": {},
     "output_type": "display_data"
    }
   ],
   "source": [
    "plt.style.use('ggplot')\n",
    "\n",
    "# render a horizontal bar graph\n",
    "df_freq.head(20).sort_values(by='count').plot(kind = 'barh')\n",
    "plt.title('Trending keyphrases')\n",
    "plt.ylabel('phrase')\n",
    "plt.xlabel('count')\n",
    "plt.legend().set_visible(False)\n",
    "plt.show()"
   ]
  },
  {
   "cell_type": "code",
   "execution_count": null,
   "id": "0f30d3b2",
   "metadata": {},
   "outputs": [],
   "source": []
  }
 ],
 "metadata": {
  "kernelspec": {
   "display_name": "Python 3",
   "language": "python",
   "name": "python3"
  },
  "language_info": {
   "codemirror_mode": {
    "name": "ipython",
    "version": 3
   },
   "file_extension": ".py",
   "mimetype": "text/x-python",
   "name": "python",
   "nbconvert_exporter": "python",
   "pygments_lexer": "ipython3",
   "version": "3.7.10"
  }
 },
 "nbformat": 4,
 "nbformat_minor": 5
}
